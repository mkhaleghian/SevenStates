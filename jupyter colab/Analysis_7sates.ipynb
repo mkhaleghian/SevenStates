{
  "nbformat": 4,
  "nbformat_minor": 0,
  "metadata": {
    "colab": {
      "provenance": []
    },
    "kernelspec": {
      "name": "python3",
      "display_name": "Python 3"
    },
    "language_info": {
      "name": "python"
    }
  },
  "cells": [
    {
      "cell_type": "code",
      "execution_count": 1,
      "metadata": {
        "id": "N_0dK1hNtvck"
      },
      "outputs": [],
      "source": [
        "import pandas as pd\n",
        "import numpy as np\n",
        "import matplotlib.pyplot as plt\n",
        "import plotly.express as px\n",
        "import geopy.distance\n",
        "import os\n",
        "import plotly.graph_objects as go\n",
        "from shapely.geometry import shape, Point\n",
        "import seaborn as sns\n",
        "import matplotlib as mpl\n",
        "import folium\n",
        "import re\n",
        "import seaborn as sns\n",
        "from datetime import datetime\n",
        "import pytz\n",
        "from pytz import timezone\n",
        "from google.colab import drive\n",
        "import datetime\n"
      ]
    },
    {
      "cell_type": "code",
      "source": [
        "from google.colab import drive\n",
        "drive.mount('/content/drive')\n",
        "df = pd.read_excel('/content/drive/MyDrive/Colab Notebooks/SevenStates_project/Session-Details-Summary-20240119-3.xlsx')"
      ],
      "metadata": {
        "colab": {
          "base_uri": "https://localhost:8080/"
        },
        "id": "GORwc0JavQK7",
        "outputId": "d7d73bec-4d17-4d21-ace5-bf8c55e7bd36"
      },
      "execution_count": 2,
      "outputs": [
        {
          "output_type": "stream",
          "name": "stdout",
          "text": [
            "Mounted at /content/drive\n"
          ]
        }
      ]
    },
    {
      "cell_type": "code",
      "source": [
        "missing_count = df['Port Type'].value_counts().get('Missing', 0)\n",
        "print(f\"Number of missing values in 'Port Type': {missing_count}\")"
      ],
      "metadata": {
        "id": "q4sJTMTMqdP9"
      },
      "execution_count": null,
      "outputs": []
    },
    {
      "cell_type": "code",
      "source": [
        "unique_values_time_zone = df['Start Time Zone'].unique()\n",
        "print(unique_values_time_zone)"
      ],
      "metadata": {
        "colab": {
          "base_uri": "https://localhost:8080/"
        },
        "id": "PE9iTQnbvyRl",
        "outputId": "96fe0abd-d9c8-4b79-a644-ab4daa21c5df"
      },
      "execution_count": 5,
      "outputs": [
        {
          "output_type": "stream",
          "name": "stdout",
          "text": [
            "['EST' 'CST' 'PST' 'CDT' 'EDT' 'PDT']\n"
          ]
        }
      ]
    },
    {
      "cell_type": "code",
      "source": [
        "# Convert Start and End Date to datetime\n",
        "df['Start Date'] = pd.to_datetime(df['Start Date'])\n",
        "df['End Date'] = pd.to_datetime(df['End Date'])\n",
        "\n",
        "def convert_to_est(row, date_col, tz_col):\n",
        "    tz_map = {'EST': 'America/New_York', 'CST': 'America/Chicago', 'CDT': 'America/Chicago', 'EDT': 'America/New_York', 'PDT': 'America/Los_Angeles', 'PST': 'America/Los_Angeles'}\n",
        "    return row[date_col].tz_localize(tz=tz_map[row[tz_col]], ambiguous='NaT').tz_convert(tz='EST')\n",
        "\n",
        "\n",
        "# Apply function to Start and End Date\n",
        "df['Start_Time_EST'] = df.apply(convert_to_est, args=('Start Date', 'Start Time Zone'), axis=1)\n",
        "df['End_Time_EST'] = df.apply(convert_to_est, args=('End Date', 'End Time Zone'), axis=1)"
      ],
      "metadata": {
        "id": "ENPmCpuI2tlx"
      },
      "execution_count": 6,
      "outputs": []
    },
    {
      "cell_type": "code",
      "source": [
        "def convert_duration_to_seconds(duration):\n",
        "    if isinstance(duration, str):\n",
        "        parts = duration.split(':')\n",
        "        hours = int(parts[0])\n",
        "        minutes = int(parts[1])\n",
        "        seconds = int(parts[2].split()[0])  # Extract seconds and ignore 'AM' or 'PM'\n",
        "        total_seconds = hours * 3600 + minutes * 60 + seconds\n",
        "        return total_seconds\n",
        "    elif isinstance(duration, datetime.time):\n",
        "        return duration.hour * 3600 + duration.minute * 60 + duration.second\n",
        "    else:\n",
        "        return 0"
      ],
      "metadata": {
        "id": "tlbpmL1G5Oo6"
      },
      "execution_count": 7,
      "outputs": []
    },
    {
      "cell_type": "code",
      "source": [
        "df['Total Duration'] = df['Total Duration (hh:mm:ss)'].apply(convert_duration_to_seconds)\n",
        "df['Charging Time'] = df['Charging Time (hh:mm:ss)'].apply(convert_duration_to_seconds)"
      ],
      "metadata": {
        "id": "AR5YmMRF5XIN"
      },
      "execution_count": 8,
      "outputs": []
    },
    {
      "cell_type": "code",
      "source": [
        "count = (df['Charging Time'] > df['Total Duration']).sum()\n",
        "count"
      ],
      "metadata": {
        "colab": {
          "base_uri": "https://localhost:8080/"
        },
        "id": "K-U6laGawMpa",
        "outputId": "71d562bc-16ad-4245-e2e3-bbbb75bae6b2"
      },
      "execution_count": 10,
      "outputs": [
        {
          "output_type": "execute_result",
          "data": {
            "text/plain": [
              "107"
            ]
          },
          "metadata": {},
          "execution_count": 10
        }
      ]
    },
    {
      "cell_type": "code",
      "source": [
        "df.loc[df['Charging Time'] > df['Total Duration'], 'Charging Time'] = df['Total Duration']"
      ],
      "metadata": {
        "id": "Gkd3FWJpHRML"
      },
      "execution_count": 11,
      "outputs": []
    },
    {
      "cell_type": "code",
      "source": [
        "df['Time_Difference'] = df['Total Duration'] - df['Charging Time']\n"
      ],
      "metadata": {
        "id": "3hjidfHDw5_O"
      },
      "execution_count": 12,
      "outputs": []
    },
    {
      "cell_type": "code",
      "source": [
        "df['Time_Difference'].describe()"
      ],
      "metadata": {
        "colab": {
          "base_uri": "https://localhost:8080/"
        },
        "id": "jIGETJpAxdMt",
        "outputId": "e928e378-2c57-4358-dd6a-91280c8d2382"
      },
      "execution_count": 13,
      "outputs": [
        {
          "output_type": "execute_result",
          "data": {
            "text/plain": [
              "count    38624.000000\n",
              "mean      1426.306804\n",
              "std       5571.574125\n",
              "min          0.000000\n",
              "25%         20.000000\n",
              "50%         35.000000\n",
              "75%        117.000000\n",
              "max      75828.000000\n",
              "Name: Time_Difference, dtype: float64"
            ]
          },
          "metadata": {},
          "execution_count": 13
        }
      ]
    },
    {
      "cell_type": "code",
      "source": [
        "count_117 = (df['Time_Difference'] > 117).sum()\n",
        "count_15_min_more = (df['Time_Difference'] > 900).sum()\n",
        "count_60_min_more = (df['Time_Difference'] > 3600).sum()\n",
        "\n",
        "print(f\"Number of charging time with more than 117 sec: {count_117}\")\n",
        "print(f\"Number of charging time with more than 900 sec- 15min: {count_15_min_more}\")\n",
        "print(f\"Number of charging time with more than 3600 sec- 60min: {count_60_min_more}\")"
      ],
      "metadata": {
        "colab": {
          "base_uri": "https://localhost:8080/"
        },
        "id": "X0ThJbPasAru",
        "outputId": "d8a97210-8a80-49a9-de86-c5c233f41573"
      },
      "execution_count": 14,
      "outputs": [
        {
          "output_type": "stream",
          "name": "stdout",
          "text": [
            "Number of charging time with more than 117 sec: 9633\n",
            "Number of charging time with more than 900 sec- 15min: 4841\n",
            "Number of charging time with more than 3600 sec- 60min: 3061\n"
          ]
        }
      ]
    },
    {
      "cell_type": "code",
      "source": [
        "# Histogram\n",
        "plt.figure(figsize=(10, 5))\n",
        "sns.histplot(df['Time_Difference'], bins=50, kde=True)\n",
        "plt.title('Histogram of column_name')\n",
        "plt.show()\n",
        "\n"
      ],
      "metadata": {
        "colab": {
          "base_uri": "https://localhost:8080/",
          "height": 487
        },
        "id": "wTo9RULhJwou",
        "outputId": "162fa33e-8aad-4c40-d9c1-64697d1b8764"
      },
      "execution_count": null,
      "outputs": [
        {
          "output_type": "display_data",
          "data": {
            "text/plain": [
              "<Figure size 1000x500 with 1 Axes>"
            ],
            "image/png": "[encoded data removed]"
          },
          "metadata": {}
        }
      ]
    },
    {
      "cell_type": "code",
      "source": [
        "charging_time = df['Charging Time']\n",
        "charging_time_in_hours = charging_time / 3600\n",
        "charging_time_in_hours.describe()"
      ],
      "metadata": {
        "colab": {
          "base_uri": "https://localhost:8080/"
        },
        "id": "2SpKlvTnyXdY",
        "outputId": "a2e12ab3-c319-4b00-f6cd-1ae935c7bc4f"
      },
      "execution_count": null,
      "outputs": [
        {
          "output_type": "execute_result",
          "data": {
            "text/plain": [
              "count    38624.000000\n",
              "mean         1.503110\n",
              "std          2.041753\n",
              "min          0.000000\n",
              "25%          0.240556\n",
              "50%          0.744583\n",
              "75%          1.885972\n",
              "max         21.887222\n",
              "Name: Charging Time, dtype: float64"
            ]
          },
          "metadata": {},
          "execution_count": 46
        }
      ]
    },
    {
      "cell_type": "code",
      "source": [
        "charging_time = df['Charging Time']\n",
        "\n",
        "charging_time_in_hours = charging_time / 3600\n",
        "\n",
        "# Plot histogram\n",
        "plt.hist(charging_time_in_hours, bins=[0,1,2,3,4,5,6,7,8,9,10,11,12,13,14,15,16,17,18,19,20], color='skyblue', edgecolor='black')\n",
        "plt.title('Histogram of Charging Time')\n",
        "plt.xlabel('Charging Time (Hour)')\n",
        "plt.ylabel('Frequency')\n",
        "plt.show()"
      ],
      "metadata": {
        "colab": {
          "base_uri": "https://localhost:8080/",
          "height": 472
        },
        "id": "CXVswW1ewVNh",
        "outputId": "aa679d40-0115-49f9-a37e-3802fd259f61"
      },
      "execution_count": null,
      "outputs": [
        {
          "output_type": "display_data",
          "data": {
            "text/plain": [
              "<Figure size 640x480 with 1 Axes>"
            ],
            "image/png": "[encoded data removed]"
          },
          "metadata": {}
        }
      ]
    },
    {
      "cell_type": "code",
      "source": [
        "unique_values_port_type = df['Port Type'].unique()\n",
        "\n",
        "port_type_counts = df['Port Type'].value_counts()\n",
        "\n",
        "print(\"Unique Values:\", unique_values_port_type)\n",
        "\n",
        "print(\"Number of charging events\")\n",
        "print(port_type_counts)\n"
      ],
      "metadata": {
        "colab": {
          "base_uri": "https://localhost:8080/"
        },
        "id": "0bohob_qq_A0",
        "outputId": "600feae9-1790-4e30-955a-c5553532299b"
      },
      "execution_count": 15,
      "outputs": [
        {
          "output_type": "stream",
          "name": "stdout",
          "text": [
            "Unique Values: ['Level 2' 'DC Fast' nan]\n",
            "Number of charging events\n",
            "Level 2    21490\n",
            "DC Fast    15453\n",
            "Name: Port Type, dtype: int64\n"
          ]
        }
      ]
    },
    {
      "cell_type": "code",
      "source": [
        "df['Start_Time_EST'] = pd.to_datetime(df['Start_Time_EST'])\n",
        "\n",
        "# Create a new column 'Day_of_Week' that represents the day of the week\n",
        "df['Day_of_Week'] = df['Start_Time_EST'].dt.dayofweek\n",
        "\n",
        "# Create new columns 'Is_Weekday' and 'Is_Weekend'\n",
        "df['Is_Weekday'] = df['Day_of_Week'].isin([0, 1, 2, 3, 4]).astype(int)\n",
        "df['Is_Weekend'] = df['Day_of_Week'].isin([5, 6]).astype(int)"
      ],
      "metadata": {
        "id": "u1un8Mg-Aiht"
      },
      "execution_count": 16,
      "outputs": []
    },
    {
      "cell_type": "code",
      "source": [
        "# Create new columns 'DC' and 'L2'\n",
        "df['DC'] = (df['Port Type'] == 'DC Fast').astype(int)\n",
        "df['L2'] = (df['Port Type'] == 'Level 2').astype(int)"
      ],
      "metadata": {
        "id": "00bnbFOmA_9X"
      },
      "execution_count": 17,
      "outputs": []
    },
    {
      "cell_type": "code",
      "source": [
        "df['Port Type'] = df['Port Type'].fillna('')\n",
        "\n",
        "df_L2 = df[df['Port Type'].str.fullmatch('Level 2')]\n",
        "df_DC = df[df['Port Type'].str.fullmatch('DC Fast')]\n"
      ],
      "metadata": {
        "id": "_Xm_tWWIMxK6"
      },
      "execution_count": null,
      "outputs": []
    },
    {
      "cell_type": "code",
      "source": [
        "df['Station Name'] = df['Station Name'].replace({\"7SPC / BR-JC LIBRARY\": \"7SPC / BR-JC LIBRARY_combined\",\n",
        "                                                         \"7SPC / BR - JC LIBRARY\": \"7SPC / BR-JC LIBRARY_combined\"})"
      ],
      "metadata": {
        "id": "Ou7g1UqLpXLO"
      },
      "execution_count": 18,
      "outputs": []
    },
    {
      "cell_type": "code",
      "source": [
        "df['Start_Time_EST']=pd.to_datetime(df['Start_Time_EST'])\n",
        "df=df.sort_values(by=['Station Name', 'Start_Time_EST'])"
      ],
      "metadata": {
        "id": "xYCcmHDbnPem"
      },
      "execution_count": null,
      "outputs": []
    },
    {
      "cell_type": "markdown",
      "source": [],
      "metadata": {
        "id": "6E1hf5o8BmAk"
      }
    },
    {
      "cell_type": "code",
      "source": [
        "vehicles_per_station_all = df.groupby('Station Name')['User ID'].count()\n",
        "top_30_stations_all = vehicles_per_station_all.sort_values(ascending=False).head(40)\n",
        "\n",
        "plt.figure(figsize=(10, 6))\n",
        "top_30_stations_all.plot(kind='bar', color='skyblue')\n",
        "plt.title('Top 30 High-Demand Charging Stations- all charging sessions')\n",
        "plt.xlabel('Charging Station')\n",
        "plt.ylabel('Number of Unique Vehicles')\n",
        "plt.xticks(rotation=45, ha='right')\n",
        "plt.show()"
      ],
      "metadata": {
        "id": "ddjwiGqDBFFT",
        "colab": {
          "base_uri": "https://localhost:8080/",
          "height": 54
        },
        "outputId": "acc1fbb0-6b80-419f-9c8a-5ea3e0577616"
      },
      "execution_count": null,
      "outputs": [
        {
          "output_type": "display_data",
          "data": {
            "text/plain": [
              "<Figure size 1000x600 with 1 Axes>"
            ],
            "image/png": "[encoded data removed]"
          },
          "metadata": {}
        }
      ]
    },
    {
      "cell_type": "code",
      "source": [],
      "metadata": {
        "id": "OKgO4URzLi7-"
      },
      "execution_count": null,
      "outputs": []
    },
    {
      "cell_type": "markdown",
      "source": [
        "**Take a look at the highest demand CS**\n",
        "\n",
        "```\n",
        "# This is formatted as code\n",
        "```\n",
        "\n"
      ],
      "metadata": {
        "id": "3vombHpQ4Ewa"
      }
    },
    {
      "cell_type": "markdown",
      "source": [
        "**calculate the unique 'User ID' and sum of 'Charging Time'**"
      ],
      "metadata": {
        "id": "fJ3cx-IazOSW"
      }
    },
    {
      "cell_type": "code",
      "source": [
        "df['Start Date'] = pd.to_datetime(df['Start Date']).dt.date\n",
        "\n",
        "\n",
        "new_df_unique_users = df.groupby(['Station Name', 'Start Date']).agg({'User ID': pd.Series.nunique, 'Charging Time': 'sum'}).reset_index()\n",
        "\n",
        "\n",
        "new_df_unique_users.columns = ['Station Name', 'Date', 'Unique User Count', 'Total Charging Time']\n",
        "\n",
        "\n"
      ],
      "metadata": {
        "id": "nDS1u4oFjWGI"
      },
      "execution_count": null,
      "outputs": []
    },
    {
      "cell_type": "markdown",
      "source": [
        "**All Users in a day**"
      ],
      "metadata": {
        "id": "mjUGK5sozVUp"
      }
    },
    {
      "cell_type": "code",
      "source": [
        "\n",
        "df['Start_Time_EST'] = pd.to_datetime(df['Start_Time_EST']).dt.date\n",
        "\n",
        "new_df = df.groupby(['Station Name', 'Start_Time_EST']).agg({'User ID': 'count', 'Charging Time': 'sum', 'Total Duration':'sum', 'Energy (kWh)':'sum',\n",
        "                                                             'Gasoline Savings (gallons)':'sum','GHG Savings (kg)':'sum', 'Fee':'sum'}).reset_index()\n",
        "\n",
        "\n",
        "new_df['Charging Time'] = new_df['Charging Time'] / 3600\n",
        "new_df['Total Duration'] = new_df['Total Duration'] / 3600\n",
        "\n",
        "new_df.columns = ['Station Name', 'Date', 'User Count', 'Total Charging Time (hours)', 'Total Duration Time (hours)','Total Energy (kWh)', 'Total Gasoline Savings (gallons)',\n",
        "                  'Total GHG Savings (kg)', 'Total Fee']\n",
        "\n",
        "new_df['Station Name'] = new_df['Station Name'].replace({\"7SPC / BR-JC LIBRARY\": \"7SPC / BR-JC LIBRARY_combined\",\n",
        "                                                         \"7SPC / BR - JC LIBRARY\": \"7SPC / BR-JC LIBRARY_combined\"})"
      ],
      "metadata": {
        "id": "cODSr2QdlWkK"
      },
      "execution_count": null,
      "outputs": []
    },
    {
      "cell_type": "code",
      "source": [
        "\n",
        "new_df.to_excel('/content/drive/MyDrive/Colab Notebooks/SevenStates_project/new_dataframe_Day_by_day.xlsx', index=False)\n"
      ],
      "metadata": {
        "id": "E1u3ZMoQnycA"
      },
      "execution_count": null,
      "outputs": []
    },
    {
      "cell_type": "code",
      "source": [
        "new_df"
      ],
      "metadata": {
        "colab": {
          "base_uri": "https://localhost:8080/"
        },
        "id": "jw2ZBg0zgJiX",
        "outputId": "ca2c849b-0d9a-4c3c-b756-93f604393727"
      },
      "execution_count": null,
      "outputs": [
        {
          "output_type": "execute_result",
          "data": {
            "text/plain": [
              "                        Station Name        Date  User Count  \\\n",
              "0      7SPC / BR-JC LIBRARY_combined  2019-09-26           5   \n",
              "1      7SPC / BR-JC LIBRARY_combined  2019-09-27           1   \n",
              "2      7SPC / BR-JC LIBRARY_combined  2019-09-28           2   \n",
              "3      7SPC / BR-JC LIBRARY_combined  2019-09-30           1   \n",
              "4      7SPC / BR-JC LIBRARY_combined  2019-10-02           1   \n",
              "...                              ...         ...         ...   \n",
              "20804              WRECC / STATION 2  2024-01-13           2   \n",
              "20805              WRECC / STATION 2  2024-01-14           3   \n",
              "20806              WRECC / STATION 2  2024-01-16           1   \n",
              "20807              WRECC / STATION 2  2024-01-17           1   \n",
              "20808              WRECC / STATION 2  2024-01-18           1   \n",
              "\n",
              "       Total Charging Time (hours)  Total Duration Time (hours)  \\\n",
              "0                         2.383611                     4.053889   \n",
              "1                         1.384444                     1.455556   \n",
              "2                         1.338056                     1.423056   \n",
              "3                         1.060556                     1.063611   \n",
              "4                         0.225833                     0.234722   \n",
              "...                            ...                          ...   \n",
              "20804                     0.284722                     0.306944   \n",
              "20805                     0.591944                     0.612500   \n",
              "20806                     0.333889                     0.335000   \n",
              "20807                     1.095833                     1.105833   \n",
              "20808                     0.794167                     0.801111   \n",
              "\n",
              "       Total Energy (kWh)  Total Gasoline Savings (gallons)  \\\n",
              "0                  16.277                             2.044   \n",
              "1                   9.268                             1.163   \n",
              "2                   8.997                             1.129   \n",
              "3                   7.521                             0.944   \n",
              "4                   1.605                             0.201   \n",
              "...                   ...                               ...   \n",
              "20804              10.922                             1.371   \n",
              "20805              43.197                             5.421   \n",
              "20806              25.070                             3.146   \n",
              "20807              64.051                             8.038   \n",
              "20808              57.672                             7.238   \n",
              "\n",
              "       Total GHG Savings (kg)  Total Fee  \n",
              "0                       6.836       2.14  \n",
              "1                       3.892       1.38  \n",
              "2                       3.778       2.00  \n",
              "3                       3.159       1.06  \n",
              "4                       0.674       1.00  \n",
              "...                       ...        ...  \n",
              "20804                   8.257       3.49  \n",
              "20805                  32.657      13.83  \n",
              "20806                  18.953       8.02  \n",
              "20807                  48.422      20.50  \n",
              "20808                  43.600      18.46  \n",
              "\n",
              "[20809 rows x 9 columns]"
            ],
            "text/html": [
              "\n",
              "  <div id=\"df-dda7cdb0-6a81-4eed-8c92-185478ce10a3\" class=\"colab-df-container\">\n",
              "    <div>\n",
              "<style scoped>\n",
              "    .dataframe tbody tr th:only-of-type {\n",
              "        vertical-align: middle;\n",
              "    }\n",
              "\n",
              "    .dataframe tbody tr th {\n",
              "        vertical-align: top;\n",
              "    }\n",
              "\n",
              "    .dataframe thead th {\n",
              "        text-align: right;\n",
              "    }\n",
              "</style>\n",
              "<table border=\"1\" class=\"dataframe\">\n",
              "  <thead>\n",
              "    <tr style=\"text-align: right;\">\n",
              "      <th></th>\n",
              "      <th>Station Name</th>\n",
              "      <th>Date</th>\n",
              "      <th>User Count</th>\n",
              "      <th>Total Charging Time (hours)</th>\n",
              "      <th>Total Duration Time (hours)</th>\n",
              "      <th>Total Energy (kWh)</th>\n",
              "      <th>Total Gasoline Savings (gallons)</th>\n",
              "      <th>Total GHG Savings (kg)</th>\n",
              "      <th>Total Fee</th>\n",
              "    </tr>\n",
              "  </thead>\n",
              "  <tbody>\n",
              "    <tr>\n",
              "      <th>0</th>\n",
              "      <td>7SPC / BR-JC LIBRARY_combined</td>\n",
              "      <td>2019-09-26</td>\n",
              "      <td>5</td>\n",
              "      <td>2.383611</td>\n",
              "      <td>4.053889</td>\n",
              "      <td>16.277</td>\n",
              "      <td>2.044</td>\n",
              "      <td>6.836</td>\n",
              "      <td>2.14</td>\n",
              "    </tr>\n",
              "    <tr>\n",
              "      <th>1</th>\n",
              "      <td>7SPC / BR-JC LIBRARY_combined</td>\n",
              "      <td>2019-09-27</td>\n",
              "      <td>1</td>\n",
              "      <td>1.384444</td>\n",
              "      <td>1.455556</td>\n",
              "      <td>9.268</td>\n",
              "      <td>1.163</td>\n",
              "      <td>3.892</td>\n",
              "      <td>1.38</td>\n",
              "    </tr>\n",
              "    <tr>\n",
              "      <th>2</th>\n",
              "      <td>7SPC / BR-JC LIBRARY_combined</td>\n",
              "      <td>2019-09-28</td>\n",
              "      <td>2</td>\n",
              "      <td>1.338056</td>\n",
              "      <td>1.423056</td>\n",
              "      <td>8.997</td>\n",
              "      <td>1.129</td>\n",
              "      <td>3.778</td>\n",
              "      <td>2.00</td>\n",
              "    </tr>\n",
              "    <tr>\n",
              "      <th>3</th>\n",
              "      <td>7SPC / BR-JC LIBRARY_combined</td>\n",
              "      <td>2019-09-30</td>\n",
              "      <td>1</td>\n",
              "      <td>1.060556</td>\n",
              "      <td>1.063611</td>\n",
              "      <td>7.521</td>\n",
              "      <td>0.944</td>\n",
              "      <td>3.159</td>\n",
              "      <td>1.06</td>\n",
              "    </tr>\n",
              "    <tr>\n",
              "      <th>4</th>\n",
              "      <td>7SPC / BR-JC LIBRARY_combined</td>\n",
              "      <td>2019-10-02</td>\n",
              "      <td>1</td>\n",
              "      <td>0.225833</td>\n",
              "      <td>0.234722</td>\n",
              "      <td>1.605</td>\n",
              "      <td>0.201</td>\n",
              "      <td>0.674</td>\n",
              "      <td>1.00</td>\n",
              "    </tr>\n",
              "    <tr>\n",
              "      <th>...</th>\n",
              "      <td>...</td>\n",
              "      <td>...</td>\n",
              "      <td>...</td>\n",
              "      <td>...</td>\n",
              "      <td>...</td>\n",
              "      <td>...</td>\n",
              "      <td>...</td>\n",
              "      <td>...</td>\n",
              "      <td>...</td>\n",
              "    </tr>\n",
              "    <tr>\n",
              "      <th>20804</th>\n",
              "      <td>WRECC / STATION 2</td>\n",
              "      <td>2024-01-13</td>\n",
              "      <td>2</td>\n",
              "      <td>0.284722</td>\n",
              "      <td>0.306944</td>\n",
              "      <td>10.922</td>\n",
              "      <td>1.371</td>\n",
              "      <td>8.257</td>\n",
              "      <td>3.49</td>\n",
              "    </tr>\n",
              "    <tr>\n",
              "      <th>20805</th>\n",
              "      <td>WRECC / STATION 2</td>\n",
              "      <td>2024-01-14</td>\n",
              "      <td>3</td>\n",
              "      <td>0.591944</td>\n",
              "      <td>0.612500</td>\n",
              "      <td>43.197</td>\n",
              "      <td>5.421</td>\n",
              "      <td>32.657</td>\n",
              "      <td>13.83</td>\n",
              "    </tr>\n",
              "    <tr>\n",
              "      <th>20806</th>\n",
              "      <td>WRECC / STATION 2</td>\n",
              "      <td>2024-01-16</td>\n",
              "      <td>1</td>\n",
              "      <td>0.333889</td>\n",
              "      <td>0.335000</td>\n",
              "      <td>25.070</td>\n",
              "      <td>3.146</td>\n",
              "      <td>18.953</td>\n",
              "      <td>8.02</td>\n",
              "    </tr>\n",
              "    <tr>\n",
              "      <th>20807</th>\n",
              "      <td>WRECC / STATION 2</td>\n",
              "      <td>2024-01-17</td>\n",
              "      <td>1</td>\n",
              "      <td>1.095833</td>\n",
              "      <td>1.105833</td>\n",
              "      <td>64.051</td>\n",
              "      <td>8.038</td>\n",
              "      <td>48.422</td>\n",
              "      <td>20.50</td>\n",
              "    </tr>\n",
              "    <tr>\n",
              "      <th>20808</th>\n",
              "      <td>WRECC / STATION 2</td>\n",
              "      <td>2024-01-18</td>\n",
              "      <td>1</td>\n",
              "      <td>0.794167</td>\n",
              "      <td>0.801111</td>\n",
              "      <td>57.672</td>\n",
              "      <td>7.238</td>\n",
              "      <td>43.600</td>\n",
              "      <td>18.46</td>\n",
              "    </tr>\n",
              "  </tbody>\n",
              "</table>\n",
              "<p>20809 rows × 9 columns</p>\n",
              "</div>\n",
              "    <div class=\"colab-df-buttons\">\n",
              "\n",
              "  <div class=\"colab-df-container\">\n",
              "    <button class=\"colab-df-convert\" onclick=\"convertToInteractive('df-dda7cdb0-6a81-4eed-8c92-185478ce10a3')\"\n",
              "            title=\"Convert this dataframe to an interactive table.\"\n",
              "            style=\"display:none;\">\n",
              "\n",
              "  <svg xmlns=\"http://www.w3.org/2000/svg\" height=\"24px\" viewBox=\"0 -960 960 960\">\n",
              "    <path d=\"M120-120v-720h720v720H120Zm60-500h600v-160H180v160Zm220 220h160v-160H400v160Zm0 220h160v-160H400v160ZM180-400h160v-160H180v160Zm440 0h160v-160H620v160ZM180-180h160v-160H180v160Zm440 0h160v-160H620v160Z\"/>\n",
              "  </svg>\n",
              "    </button>\n",
              "\n",
              "  <style>\n",
              "    .colab-df-container {\n",
              "      display:flex;\n",
              "      gap: 12px;\n",
              "    }\n",
              "\n",
              "    .colab-df-convert {\n",
              "      background-color: #E8F0FE;\n",
              "      border: none;\n",
              "      border-radius: 50%;\n",
              "      cursor: pointer;\n",
              "      display: none;\n",
              "      fill: #1967D2;\n",
              "      height: 32px;\n",
              "      padding: 0 0 0 0;\n",
              "      width: 32px;\n",
              "    }\n",
              "\n",
              "    .colab-df-convert:hover {\n",
              "      background-color: #E2EBFA;\n",
              "      box-shadow: 0px 1px 2px rgba(60, 64, 67, 0.3), 0px 1px 3px 1px rgba(60, 64, 67, 0.15);\n",
              "      fill: #174EA6;\n",
              "    }\n",
              "\n",
              "    .colab-df-buttons div {\n",
              "      margin-bottom: 4px;\n",
              "    }\n",
              "\n",
              "    [theme=dark] .colab-df-convert {\n",
              "      background-color: #3B4455;\n",
              "      fill: #D2E3FC;\n",
              "    }\n",
              "\n",
              "    [theme=dark] .colab-df-convert:hover {\n",
              "      background-color: #434B5C;\n",
              "      box-shadow: 0px 1px 3px 1px rgba(0, 0, 0, 0.15);\n",
              "      filter: drop-shadow(0px 1px 2px rgba(0, 0, 0, 0.3));\n",
              "      fill: #FFFFFF;\n",
              "    }\n",
              "  </style>\n",
              "\n",
              "    <script>\n",
              "      const buttonEl =\n",
              "        document.querySelector('#df-dda7cdb0-6a81-4eed-8c92-185478ce10a3 button.colab-df-convert');\n",
              "      buttonEl.style.display =\n",
              "        google.colab.kernel.accessAllowed ? 'block' : 'none';\n",
              "\n",
              "      async function convertToInteractive(key) {\n",
              "        const element = document.querySelector('#df-dda7cdb0-6a81-4eed-8c92-185478ce10a3');\n",
              "        const dataTable =\n",
              "          await google.colab.kernel.invokeFunction('convertToInteractive',\n",
              "                                                    [key], {});\n",
              "        if (!dataTable) return;\n",
              "\n",
              "        const docLinkHtml = 'Like what you see? Visit the ' +\n",
              "          '<a target=\"_blank\" href=https://colab.research.google.com/notebooks/data_table.ipynb>data table notebook</a>'\n",
              "          + ' to learn more about interactive tables.';\n",
              "        element.innerHTML = '';\n",
              "        dataTable['output_type'] = 'display_data';\n",
              "        await google.colab.output.renderOutput(dataTable, element);\n",
              "        const docLink = document.createElement('div');\n",
              "        docLink.innerHTML = docLinkHtml;\n",
              "        element.appendChild(docLink);\n",
              "      }\n",
              "    </script>\n",
              "  </div>\n",
              "\n",
              "\n",
              "<div id=\"df-297e8a85-b87f-4104-a8e2-df69ccd59ccf\">\n",
              "  <button class=\"colab-df-quickchart\" onclick=\"quickchart('df-297e8a85-b87f-4104-a8e2-df69ccd59ccf')\"\n",
              "            title=\"Suggest charts\"\n",
              "            style=\"display:none;\">\n",
              "\n",
              "<svg xmlns=\"http://www.w3.org/2000/svg\" height=\"24px\"viewBox=\"0 0 24 24\"\n",
              "     width=\"24px\">\n",
              "    <g>\n",
              "        <path d=\"M19 3H5c-1.1 0-2 .9-2 2v14c0 1.1.9 2 2 2h14c1.1 0 2-.9 2-2V5c0-1.1-.9-2-2-2zM9 17H7v-7h2v7zm4 0h-2V7h2v10zm4 0h-2v-4h2v4z\"/>\n",
              "    </g>\n",
              "</svg>\n",
              "  </button>\n",
              "\n",
              "<style>\n",
              "  .colab-df-quickchart {\n",
              "      --bg-color: #E8F0FE;\n",
              "      --fill-color: #1967D2;\n",
              "      --hover-bg-color: #E2EBFA;\n",
              "      --hover-fill-color: #174EA6;\n",
              "      --disabled-fill-color: #AAA;\n",
              "      --disabled-bg-color: #DDD;\n",
              "  }\n",
              "\n",
              "  [theme=dark] .colab-df-quickchart {\n",
              "      --bg-color: #3B4455;\n",
              "      --fill-color: #D2E3FC;\n",
              "      --hover-bg-color: #434B5C;\n",
              "      --hover-fill-color: #FFFFFF;\n",
              "      --disabled-bg-color: #3B4455;\n",
              "      --disabled-fill-color: #666;\n",
              "  }\n",
              "\n",
              "  .colab-df-quickchart {\n",
              "    background-color: var(--bg-color);\n",
              "    border: none;\n",
              "    border-radius: 50%;\n",
              "    cursor: pointer;\n",
              "    display: none;\n",
              "    fill: var(--fill-color);\n",
              "    height: 32px;\n",
              "    padding: 0;\n",
              "    width: 32px;\n",
              "  }\n",
              "\n",
              "  .colab-df-quickchart:hover {\n",
              "    background-color: var(--hover-bg-color);\n",
              "    box-shadow: 0 1px 2px rgba(60, 64, 67, 0.3), 0 1px 3px 1px rgba(60, 64, 67, 0.15);\n",
              "    fill: var(--button-hover-fill-color);\n",
              "  }\n",
              "\n",
              "  .colab-df-quickchart-complete:disabled,\n",
              "  .colab-df-quickchart-complete:disabled:hover {\n",
              "    background-color: var(--disabled-bg-color);\n",
              "    fill: var(--disabled-fill-color);\n",
              "    box-shadow: none;\n",
              "  }\n",
              "\n",
              "  .colab-df-spinner {\n",
              "    border: 2px solid var(--fill-color);\n",
              "    border-color: transparent;\n",
              "    border-bottom-color: var(--fill-color);\n",
              "    animation:\n",
              "      spin 1s steps(1) infinite;\n",
              "  }\n",
              "\n",
              "  @keyframes spin {\n",
              "    0% {\n",
              "      border-color: transparent;\n",
              "      border-bottom-color: var(--fill-color);\n",
              "      border-left-color: var(--fill-color);\n",
              "    }\n",
              "    20% {\n",
              "      border-color: transparent;\n",
              "      border-left-color: var(--fill-color);\n",
              "      border-top-color: var(--fill-color);\n",
              "    }\n",
              "    30% {\n",
              "      border-color: transparent;\n",
              "      border-left-color: var(--fill-color);\n",
              "      border-top-color: var(--fill-color);\n",
              "      border-right-color: var(--fill-color);\n",
              "    }\n",
              "    40% {\n",
              "      border-color: transparent;\n",
              "      border-right-color: var(--fill-color);\n",
              "      border-top-color: var(--fill-color);\n",
              "    }\n",
              "    60% {\n",
              "      border-color: transparent;\n",
              "      border-right-color: var(--fill-color);\n",
              "    }\n",
              "    80% {\n",
              "      border-color: transparent;\n",
              "      border-right-color: var(--fill-color);\n",
              "      border-bottom-color: var(--fill-color);\n",
              "    }\n",
              "    90% {\n",
              "      border-color: transparent;\n",
              "      border-bottom-color: var(--fill-color);\n",
              "    }\n",
              "  }\n",
              "</style>\n",
              "\n",
              "  <script>\n",
              "    async function quickchart(key) {\n",
              "      const quickchartButtonEl =\n",
              "        document.querySelector('#' + key + ' button');\n",
              "      quickchartButtonEl.disabled = true;  // To prevent multiple clicks.\n",
              "      quickchartButtonEl.classList.add('colab-df-spinner');\n",
              "      try {\n",
              "        const charts = await google.colab.kernel.invokeFunction(\n",
              "            'suggestCharts', [key], {});\n",
              "      } catch (error) {\n",
              "        console.error('Error during call to suggestCharts:', error);\n",
              "      }\n",
              "      quickchartButtonEl.classList.remove('colab-df-spinner');\n",
              "      quickchartButtonEl.classList.add('colab-df-quickchart-complete');\n",
              "    }\n",
              "    (() => {\n",
              "      let quickchartButtonEl =\n",
              "        document.querySelector('#df-297e8a85-b87f-4104-a8e2-df69ccd59ccf button');\n",
              "      quickchartButtonEl.style.display =\n",
              "        google.colab.kernel.accessAllowed ? 'block' : 'none';\n",
              "    })();\n",
              "  </script>\n",
              "</div>\n",
              "    </div>\n",
              "  </div>\n"
            ],
            "application/vnd.google.colaboratory.intrinsic+json": {
              "type": "dataframe",
              "variable_name": "new_df",
              "summary": "{\n  \"name\": \"new_df\",\n  \"rows\": 20809,\n  \"fields\": [\n    {\n      \"column\": \"Station Name\",\n      \"properties\": {\n        \"dtype\": \"category\",\n        \"samples\": [\n          \"EBOFG / GUNTERSVILLE PD\",\n          \"UT PARKING / S7 STATION 1\",\n          \"NEMEPA / NEMEPA CUSTOMER\"\n        ],\n        \"num_unique_values\": 152,\n        \"semantic_type\": \"\",\n        \"description\": \"\"\n      }\n    },\n    {\n      \"column\": \"Date\",\n      \"properties\": {\n        \"dtype\": \"date\",\n        \"min\": \"2018-10-31\",\n        \"max\": \"2024-01-19\",\n        \"samples\": [\n          \"2023-03-08\",\n          \"2020-10-10\",\n          \"2023-02-13\"\n        ],\n        \"num_unique_values\": 1826,\n        \"semantic_type\": \"\",\n        \"description\": \"\"\n      }\n    },\n    {\n      \"column\": \"User Count\",\n      \"properties\": {\n        \"dtype\": \"number\",\n        \"std\": 1,\n        \"min\": 0,\n        \"max\": 26,\n        \"samples\": [\n          5,\n          0,\n          11\n        ],\n        \"num_unique_values\": 19,\n        \"semantic_type\": \"\",\n        \"description\": \"\"\n      }\n    },\n    {\n      \"column\": \"Total Charging Time (hours)\",\n      \"properties\": {\n        \"dtype\": \"number\",\n        \"std\": 3.178000380229265,\n        \"min\": 0.0,\n        \"max\": 27.782222222222224,\n        \"samples\": [\n          1.6552777777777778,\n          6.3277777777777775,\n          8.142222222222221\n        ],\n        \"num_unique_values\": 13046,\n        \"semantic_type\": \"\",\n        \"description\": \"\"\n      }\n    },\n    {\n      \"column\": \"Total Duration Time (hours)\",\n      \"properties\": {\n        \"dtype\": \"number\",\n        \"std\": 4.48074749788324,\n        \"min\": 0.0,\n        \"max\": 44.897222222222226,\n        \"samples\": [\n          0.5655555555555556,\n          16.827222222222222,\n          3.8680555555555554\n        ],\n        \"num_unique_values\": 13672,\n        \"semantic_type\": \"\",\n        \"description\": \"\"\n      }\n    },\n    {\n      \"column\": \"Total Energy (kWh)\",\n      \"properties\": {\n        \"dtype\": \"number\",\n        \"std\": 33.2080588884521,\n        \"min\": 0.0,\n        \"max\": 315.067,\n        \"samples\": [\n          77.266,\n          4.342,\n          16.052\n        ],\n        \"num_unique_values\": 17693,\n        \"semantic_type\": \"\",\n        \"description\": \"\"\n      }\n    },\n    {\n      \"column\": \"Total Gasoline Savings (gallons)\",\n      \"properties\": {\n        \"dtype\": \"number\",\n        \"std\": 4.167611929322288,\n        \"min\": 0.0,\n        \"max\": 39.541,\n        \"samples\": [\n          16.209,\n          2.1950000000000003,\n          2.195\n        ],\n        \"num_unique_values\": 10000,\n        \"semantic_type\": \"\",\n        \"description\": \"\"\n      }\n    },\n    {\n      \"column\": \"Total GHG Savings (kg)\",\n      \"properties\": {\n        \"dtype\": \"number\",\n        \"std\": 23.87416479544897,\n        \"min\": 0.0,\n        \"max\": 223.697,\n        \"samples\": [\n          17.571,\n          24.152,\n          14.427\n        ],\n        \"num_unique_values\": 16878,\n        \"semantic_type\": \"\",\n        \"description\": \"\"\n      }\n    },\n    {\n      \"column\": \"Total Fee\",\n      \"properties\": {\n        \"dtype\": \"number\",\n        \"std\": 12.633951913134453,\n        \"min\": 0.0,\n        \"max\": 132.32,\n        \"samples\": [\n          38.269999999999996,\n          13.219999999999999,\n          4.51\n        ],\n        \"num_unique_values\": 4562,\n        \"semantic_type\": \"\",\n        \"description\": \"\"\n      }\n    }\n  ]\n}"
            }
          },
          "metadata": {},
          "execution_count": 25
        }
      ]
    },
    {
      "cell_type": "code",
      "source": [
        "idx = new_df.groupby('Station Name')['Total Charging Time (hours)'].idxmax()\n",
        "\n",
        "highest_charging_time = new_df.loc[idx, ['Station Name', 'Date', 'Total Charging Time (hours)']]\n",
        "\n",
        "\n",
        "\n"
      ],
      "metadata": {
        "id": "vc2lDXPSc1Lv"
      },
      "execution_count": null,
      "outputs": []
    },
    {
      "cell_type": "code",
      "source": [
        "highest_charging_time.describe()"
      ],
      "metadata": {
        "colab": {
          "base_uri": "https://localhost:8080/"
        },
        "id": "H9p2TUlpd2dR",
        "outputId": "137a0334-3460-4cab-abc2-4070e836d739"
      },
      "execution_count": null,
      "outputs": [
        {
          "output_type": "execute_result",
          "data": {
            "text/plain": [
              "       Total Charging Time (hours)\n",
              "count                   152.000000\n",
              "mean                      8.575784\n",
              "std                       7.048024\n",
              "min                       0.000000\n",
              "25%                       2.558542\n",
              "50%                       6.741389\n",
              "75%                      12.958611\n",
              "max                      27.782222"
            ],
            "text/html": [
              "\n",
              "  <div id=\"df-1adb524f-8048-4e7e-86fe-40b704da18b7\" class=\"colab-df-container\">\n",
              "    <div>\n",
              "<style scoped>\n",
              "    .dataframe tbody tr th:only-of-type {\n",
              "        vertical-align: middle;\n",
              "    }\n",
              "\n",
              "    .dataframe tbody tr th {\n",
              "        vertical-align: top;\n",
              "    }\n",
              "\n",
              "    .dataframe thead th {\n",
              "        text-align: right;\n",
              "    }\n",
              "</style>\n",
              "<table border=\"1\" class=\"dataframe\">\n",
              "  <thead>\n",
              "    <tr style=\"text-align: right;\">\n",
              "      <th></th>\n",
              "      <th>Total Charging Time (hours)</th>\n",
              "    </tr>\n",
              "  </thead>\n",
              "  <tbody>\n",
              "    <tr>\n",
              "      <th>count</th>\n",
              "      <td>152.000000</td>\n",
              "    </tr>\n",
              "    <tr>\n",
              "      <th>mean</th>\n",
              "      <td>8.575784</td>\n",
              "    </tr>\n",
              "    <tr>\n",
              "      <th>std</th>\n",
              "      <td>7.048024</td>\n",
              "    </tr>\n",
              "    <tr>\n",
              "      <th>min</th>\n",
              "      <td>0.000000</td>\n",
              "    </tr>\n",
              "    <tr>\n",
              "      <th>25%</th>\n",
              "      <td>2.558542</td>\n",
              "    </tr>\n",
              "    <tr>\n",
              "      <th>50%</th>\n",
              "      <td>6.741389</td>\n",
              "    </tr>\n",
              "    <tr>\n",
              "      <th>75%</th>\n",
              "      <td>12.958611</td>\n",
              "    </tr>\n",
              "    <tr>\n",
              "      <th>max</th>\n",
              "      <td>27.782222</td>\n",
              "    </tr>\n",
              "  </tbody>\n",
              "</table>\n",
              "</div>\n",
              "    <div class=\"colab-df-buttons\">\n",
              "\n",
              "  <div class=\"colab-df-container\">\n",
              "    <button class=\"colab-df-convert\" onclick=\"convertToInteractive('df-1adb524f-8048-4e7e-86fe-40b704da18b7')\"\n",
              "            title=\"Convert this dataframe to an interactive table.\"\n",
              "            style=\"display:none;\">\n",
              "\n",
              "  <svg xmlns=\"http://www.w3.org/2000/svg\" height=\"24px\" viewBox=\"0 -960 960 960\">\n",
              "    <path d=\"M120-120v-720h720v720H120Zm60-500h600v-160H180v160Zm220 220h160v-160H400v160Zm0 220h160v-160H400v160ZM180-400h160v-160H180v160Zm440 0h160v-160H620v160ZM180-180h160v-160H180v160Zm440 0h160v-160H620v160Z\"/>\n",
              "  </svg>\n",
              "    </button>\n",
              "\n",
              "  <style>\n",
              "    .colab-df-container {\n",
              "      display:flex;\n",
              "      gap: 12px;\n",
              "    }\n",
              "\n",
              "    .colab-df-convert {\n",
              "      background-color: #E8F0FE;\n",
              "      border: none;\n",
              "      border-radius: 50%;\n",
              "      cursor: pointer;\n",
              "      display: none;\n",
              "      fill: #1967D2;\n",
              "      height: 32px;\n",
              "      padding: 0 0 0 0;\n",
              "      width: 32px;\n",
              "    }\n",
              "\n",
              "    .colab-df-convert:hover {\n",
              "      background-color: #E2EBFA;\n",
              "      box-shadow: 0px 1px 2px rgba(60, 64, 67, 0.3), 0px 1px 3px 1px rgba(60, 64, 67, 0.15);\n",
              "      fill: #174EA6;\n",
              "    }\n",
              "\n",
              "    .colab-df-buttons div {\n",
              "      margin-bottom: 4px;\n",
              "    }\n",
              "\n",
              "    [theme=dark] .colab-df-convert {\n",
              "      background-color: #3B4455;\n",
              "      fill: #D2E3FC;\n",
              "    }\n",
              "\n",
              "    [theme=dark] .colab-df-convert:hover {\n",
              "      background-color: #434B5C;\n",
              "      box-shadow: 0px 1px 3px 1px rgba(0, 0, 0, 0.15);\n",
              "      filter: drop-shadow(0px 1px 2px rgba(0, 0, 0, 0.3));\n",
              "      fill: #FFFFFF;\n",
              "    }\n",
              "  </style>\n",
              "\n",
              "    <script>\n",
              "      const buttonEl =\n",
              "        document.querySelector('#df-1adb524f-8048-4e7e-86fe-40b704da18b7 button.colab-df-convert');\n",
              "      buttonEl.style.display =\n",
              "        google.colab.kernel.accessAllowed ? 'block' : 'none';\n",
              "\n",
              "      async function convertToInteractive(key) {\n",
              "        const element = document.querySelector('#df-1adb524f-8048-4e7e-86fe-40b704da18b7');\n",
              "        const dataTable =\n",
              "          await google.colab.kernel.invokeFunction('convertToInteractive',\n",
              "                                                    [key], {});\n",
              "        if (!dataTable) return;\n",
              "\n",
              "        const docLinkHtml = 'Like what you see? Visit the ' +\n",
              "          '<a target=\"_blank\" href=https://colab.research.google.com/notebooks/data_table.ipynb>data table notebook</a>'\n",
              "          + ' to learn more about interactive tables.';\n",
              "        element.innerHTML = '';\n",
              "        dataTable['output_type'] = 'display_data';\n",
              "        await google.colab.output.renderOutput(dataTable, element);\n",
              "        const docLink = document.createElement('div');\n",
              "        docLink.innerHTML = docLinkHtml;\n",
              "        element.appendChild(docLink);\n",
              "      }\n",
              "    </script>\n",
              "  </div>\n",
              "\n",
              "\n",
              "<div id=\"df-69818d2c-3cfa-457d-9bac-e29dcf3fd394\">\n",
              "  <button class=\"colab-df-quickchart\" onclick=\"quickchart('df-69818d2c-3cfa-457d-9bac-e29dcf3fd394')\"\n",
              "            title=\"Suggest charts\"\n",
              "            style=\"display:none;\">\n",
              "\n",
              "<svg xmlns=\"http://www.w3.org/2000/svg\" height=\"24px\"viewBox=\"0 0 24 24\"\n",
              "     width=\"24px\">\n",
              "    <g>\n",
              "        <path d=\"M19 3H5c-1.1 0-2 .9-2 2v14c0 1.1.9 2 2 2h14c1.1 0 2-.9 2-2V5c0-1.1-.9-2-2-2zM9 17H7v-7h2v7zm4 0h-2V7h2v10zm4 0h-2v-4h2v4z\"/>\n",
              "    </g>\n",
              "</svg>\n",
              "  </button>\n",
              "\n",
              "<style>\n",
              "  .colab-df-quickchart {\n",
              "      --bg-color: #E8F0FE;\n",
              "      --fill-color: #1967D2;\n",
              "      --hover-bg-color: #E2EBFA;\n",
              "      --hover-fill-color: #174EA6;\n",
              "      --disabled-fill-color: #AAA;\n",
              "      --disabled-bg-color: #DDD;\n",
              "  }\n",
              "\n",
              "  [theme=dark] .colab-df-quickchart {\n",
              "      --bg-color: #3B4455;\n",
              "      --fill-color: #D2E3FC;\n",
              "      --hover-bg-color: #434B5C;\n",
              "      --hover-fill-color: #FFFFFF;\n",
              "      --disabled-bg-color: #3B4455;\n",
              "      --disabled-fill-color: #666;\n",
              "  }\n",
              "\n",
              "  .colab-df-quickchart {\n",
              "    background-color: var(--bg-color);\n",
              "    border: none;\n",
              "    border-radius: 50%;\n",
              "    cursor: pointer;\n",
              "    display: none;\n",
              "    fill: var(--fill-color);\n",
              "    height: 32px;\n",
              "    padding: 0;\n",
              "    width: 32px;\n",
              "  }\n",
              "\n",
              "  .colab-df-quickchart:hover {\n",
              "    background-color: var(--hover-bg-color);\n",
              "    box-shadow: 0 1px 2px rgba(60, 64, 67, 0.3), 0 1px 3px 1px rgba(60, 64, 67, 0.15);\n",
              "    fill: var(--button-hover-fill-color);\n",
              "  }\n",
              "\n",
              "  .colab-df-quickchart-complete:disabled,\n",
              "  .colab-df-quickchart-complete:disabled:hover {\n",
              "    background-color: var(--disabled-bg-color);\n",
              "    fill: var(--disabled-fill-color);\n",
              "    box-shadow: none;\n",
              "  }\n",
              "\n",
              "  .colab-df-spinner {\n",
              "    border: 2px solid var(--fill-color);\n",
              "    border-color: transparent;\n",
              "    border-bottom-color: var(--fill-color);\n",
              "    animation:\n",
              "      spin 1s steps(1) infinite;\n",
              "  }\n",
              "\n",
              "  @keyframes spin {\n",
              "    0% {\n",
              "      border-color: transparent;\n",
              "      border-bottom-color: var(--fill-color);\n",
              "      border-left-color: var(--fill-color);\n",
              "    }\n",
              "    20% {\n",
              "      border-color: transparent;\n",
              "      border-left-color: var(--fill-color);\n",
              "      border-top-color: var(--fill-color);\n",
              "    }\n",
              "    30% {\n",
              "      border-color: transparent;\n",
              "      border-left-color: var(--fill-color);\n",
              "      border-top-color: var(--fill-color);\n",
              "      border-right-color: var(--fill-color);\n",
              "    }\n",
              "    40% {\n",
              "      border-color: transparent;\n",
              "      border-right-color: var(--fill-color);\n",
              "      border-top-color: var(--fill-color);\n",
              "    }\n",
              "    60% {\n",
              "      border-color: transparent;\n",
              "      border-right-color: var(--fill-color);\n",
              "    }\n",
              "    80% {\n",
              "      border-color: transparent;\n",
              "      border-right-color: var(--fill-color);\n",
              "      border-bottom-color: var(--fill-color);\n",
              "    }\n",
              "    90% {\n",
              "      border-color: transparent;\n",
              "      border-bottom-color: var(--fill-color);\n",
              "    }\n",
              "  }\n",
              "</style>\n",
              "\n",
              "  <script>\n",
              "    async function quickchart(key) {\n",
              "      const quickchartButtonEl =\n",
              "        document.querySelector('#' + key + ' button');\n",
              "      quickchartButtonEl.disabled = true;  // To prevent multiple clicks.\n",
              "      quickchartButtonEl.classList.add('colab-df-spinner');\n",
              "      try {\n",
              "        const charts = await google.colab.kernel.invokeFunction(\n",
              "            'suggestCharts', [key], {});\n",
              "      } catch (error) {\n",
              "        console.error('Error during call to suggestCharts:', error);\n",
              "      }\n",
              "      quickchartButtonEl.classList.remove('colab-df-spinner');\n",
              "      quickchartButtonEl.classList.add('colab-df-quickchart-complete');\n",
              "    }\n",
              "    (() => {\n",
              "      let quickchartButtonEl =\n",
              "        document.querySelector('#df-69818d2c-3cfa-457d-9bac-e29dcf3fd394 button');\n",
              "      quickchartButtonEl.style.display =\n",
              "        google.colab.kernel.accessAllowed ? 'block' : 'none';\n",
              "    })();\n",
              "  </script>\n",
              "</div>\n",
              "    </div>\n",
              "  </div>\n"
            ],
            "application/vnd.google.colaboratory.intrinsic+json": {
              "type": "dataframe",
              "summary": "{\n  \"name\": \"highest_charging_time\",\n  \"rows\": 8,\n  \"fields\": [\n    {\n      \"column\": \"Total Charging Time (hours)\",\n      \"properties\": {\n        \"dtype\": \"number\",\n        \"std\": 51.12555333540625,\n        \"min\": 0.0,\n        \"max\": 152.0,\n        \"samples\": [\n          8.57578399122807,\n          6.741388888888888,\n          152.0\n        ],\n        \"num_unique_values\": 8,\n        \"semantic_type\": \"\",\n        \"description\": \"\"\n      }\n    }\n  ]\n}"
            }
          },
          "metadata": {},
          "execution_count": 27
        }
      ]
    },
    {
      "cell_type": "code",
      "source": [
        "idx_Energy=new_df.groupby('Station Name')['Total Energy (kWh)'].idxmax()\n",
        "highest_enrgy_=new_df.loc[idx_Energy,['Station Name', 'Date', 'Total Energy (kWh)']]"
      ],
      "metadata": {
        "id": "gFZvPP4VzNT4"
      },
      "execution_count": null,
      "outputs": []
    },
    {
      "cell_type": "markdown",
      "source": [
        "### calculate the time difference between the start time of the current session and the end time of the previous one"
      ],
      "metadata": {
        "id": "U4iCp9dZt6Yy"
      }
    },
    {
      "cell_type": "code",
      "source": [
        "df['End_Time_EST'] = pd.to_datetime(df['End_Time_EST'], utc=True).dt.tz_convert('EST')\n",
        "df['Start_Time_EST'] = pd.to_datetime(df['Start_Time_EST'], utc=True).dt.tz_convert('EST')\n",
        "\n",
        "df['previous_end_time'] = df.groupby('Station Name')['End_Time_EST'].shift(1)\n",
        "\n",
        "first_rows_mask = df['Station Name'] != df['Station Name'].shift(1)\n",
        "df.loc[first_rows_mask, 'previous_end_time'] = df['Start_Time_EST']\n",
        "\n",
        "df['time_difference_session'] = df['Start_Time_EST'] - df['previous_end_time']\n",
        "\n",
        "print(df[['Start_Time_EST', 'End_Time_EST', 'previous_end_time', 'time_difference_session']])\n",
        "\n"
      ],
      "metadata": {
        "colab": {
          "base_uri": "https://localhost:8080/"
        },
        "id": "-95VmXaDoYcT",
        "outputId": "dcc60693-de74-4311-ab9a-4f26f0307a36"
      },
      "execution_count": 19,
      "outputs": [
        {
          "output_type": "stream",
          "name": "stdout",
          "text": [
            "                 Start_Time_EST              End_Time_EST  \\\n",
            "0     2024-01-19 08:09:24-05:00 2024-01-19 13:50:19-05:00   \n",
            "1     2024-01-19 13:17:42-05:00 2024-01-19 13:53:41-05:00   \n",
            "2     2024-01-19 12:30:58-05:00 2024-01-19 13:19:34-05:00   \n",
            "3     2024-01-19 12:30:19-05:00 2024-01-19 13:13:34-05:00   \n",
            "4     2024-01-19 12:33:53-05:00 2024-01-19 13:06:05-05:00   \n",
            "...                         ...                       ...   \n",
            "38619 2024-01-19 13:19:57-05:00                       NaT   \n",
            "38620 2024-01-19 13:31:23-05:00                       NaT   \n",
            "38621 2023-10-07 23:35:38-05:00 2023-10-07 23:45:05-05:00   \n",
            "38622 2023-10-07 23:52:11-05:00 2023-10-08 00:06:57-05:00   \n",
            "38623 2023-10-08 00:23:16-05:00 2023-10-08 00:34:00-05:00   \n",
            "\n",
            "              previous_end_time time_difference_session  \n",
            "0     2024-01-19 08:09:24-05:00         0 days 00:00:00  \n",
            "1     2024-01-19 13:17:42-05:00         0 days 00:00:00  \n",
            "2     2024-01-19 12:30:58-05:00         0 days 00:00:00  \n",
            "3     2024-01-19 12:30:19-05:00         0 days 00:00:00  \n",
            "4     2024-01-19 12:33:53-05:00         0 days 00:00:00  \n",
            "...                         ...                     ...  \n",
            "38619 2023-10-19 13:53:40-05:00        91 days 23:26:17  \n",
            "38620 2024-01-19 13:31:23-05:00         0 days 00:00:00  \n",
            "38621 2023-10-07 23:35:38-05:00         0 days 00:00:00  \n",
            "38622 2023-10-07 23:45:05-05:00         0 days 00:07:06  \n",
            "38623 2023-10-08 00:06:57-05:00         0 days 00:16:19  \n",
            "\n",
            "[38624 rows x 4 columns]\n"
          ]
        }
      ]
    },
    {
      "cell_type": "code",
      "source": [
        "df['time_difference_session'].describe()"
      ],
      "metadata": {
        "colab": {
          "base_uri": "https://localhost:8080/"
        },
        "id": "B4D-zJyIjS3P",
        "outputId": "3d910ea7-9ccf-4e82-b90a-12b9854df08d"
      },
      "execution_count": null,
      "outputs": [
        {
          "output_type": "execute_result",
          "data": {
            "text/plain": [
              "count                        38619\n",
              "mean     0 days 17:35:03.781014526\n",
              "std      5 days 02:58:30.805153188\n",
              "min             -31 days +15:04:43\n",
              "25%              -1 days +05:28:20\n",
              "50%              -1 days +20:35:38\n",
              "75%         0 days 08:40:08.500000\n",
              "max              325 days 04:19:16\n",
              "Name: time_difference_session, dtype: object"
            ]
          },
          "metadata": {},
          "execution_count": 65
        }
      ]
    },
    {
      "cell_type": "markdown",
      "source": [
        "### Count the number of cases where previous_end_time > Start_Time_EST"
      ],
      "metadata": {
        "id": "kUfnpPNzwnfA"
      }
    },
    {
      "cell_type": "code",
      "source": [
        "negative_time_differences = df[df['previous_end_time'] > df['Start_Time_EST']]\n",
        "\n",
        "num_negative_time_differences = len(negative_time_differences)\n",
        "\n",
        "print(\"Number of cases where previous_end_time > Start_Time_EST:\", num_negative_time_differences)"
      ],
      "metadata": {
        "colab": {
          "base_uri": "https://localhost:8080/"
        },
        "id": "u2pemafnwozV",
        "outputId": "2423a094-82f2-450c-f517-d0a97ad75fa4"
      },
      "execution_count": 20,
      "outputs": [
        {
          "output_type": "stream",
          "name": "stdout",
          "text": [
            "Number of cases where previous_end_time > Start_Time_EST: 4678\n"
          ]
        }
      ]
    },
    {
      "cell_type": "code",
      "source": [
        "unique_stations = df['Station Name'].unique()\n",
        "\n",
        "for station in unique_stations:\n",
        "    specific_station_df = df[df['Station Name'] == station]\n",
        "\n",
        "    average_waiting_time_specific_station = specific_station_df['time_difference_session'].mean()\n",
        "\n",
        "    print(f\"average time difference between sessions {station}: {average_waiting_time_specific_station}\")"
      ],
      "metadata": {
        "colab": {
          "base_uri": "https://localhost:8080/"
        },
        "id": "v1dJt0gE8toW",
        "outputId": "8bb8d66a-b732-4243-833a-d0843aee5b35"
      },
      "execution_count": null,
      "outputs": [
        {
          "output_type": "stream",
          "name": "stdout",
          "text": [
            "average time difference between sessions 7SPC / BR-JC LIBRARY_combined: 0 days 09:17:16.685333333\n",
            "average time difference between sessions 7SPC / BR-JONESBOROUGH: 8 days 12:35:22.240740740\n",
            "average time difference between sessions 7SPC / CFEC SPENCER: 17 days 18:34:20.258064516\n",
            "average time difference between sessions 7SPC / COLUMBUS L&W: 0 days 01:16:41.723214285\n",
            "average time difference between sessions 7SPC / COLUMBUS MS: 0 days 09:36:41.503576537\n",
            "average time difference between sessions 7SPC / CULLMAN PB: 4 days 14:12:51.439024390\n",
            "average time difference between sessions 7SPC / DOLLYWOOD EMPL: 5 days 03:44:22.230769230\n",
            "average time difference between sessions 7SPC / GREENEVILLE TA: 0 days 04:59:02.508487654\n",
            "average time difference between sessions 7SPC / GUNTERSVILLE PD: 3 days 20:34:28.504761904\n",
            "average time difference between sessions 7SPC / HARTSELLE UTIL: 3 days 02:08:17.887096774\n",
            "average time difference between sessions 7SPC / HOLSTON CONNECT: 0 days 17:40:24.261096605\n",
            "average time difference between sessions 7SPC / NASA USSRC L: -1 days +21:04:49.179104478\n",
            "average time difference between sessions 7SPC / NASA USSRC R: 0 days 00:06:06.944720056\n",
            "average time difference between sessions 7SPC / SCES DOLLYWOOD: 0 days 07:35:59.454113924\n",
            "average time difference between sessions 7SPC / SCES DREAM MORE: 0 days 06:07:31.045901639\n",
            "average time difference between sessions 7SPC / SCES LECONTE 1: 9 days 09:48:29.672897196\n",
            "average time difference between sessions 7SPC / SCES LECONTE 2: 15 days 08:46:42.656716418\n",
            "average time difference between sessions 7SPC / SCES LECONTE 3: 10 days 16:17:52.819148936\n",
            "average time difference between sessions 7SPC / SCES LECONTE 4: 5 days 05:32:58.054945054\n",
            "average time difference between sessions 7SPC / SCES LECONTE 5: 3 days 17:12:58.043795620\n",
            "average time difference between sessions 7SPC / SEVIERVILLE DC1: -1 days +13:18:55.762923352\n",
            "average time difference between sessions 7SPC / SMITHVILLE: 4 days 00:32:32.600917431\n",
            "average time difference between sessions 7SPC / SPARTA TN: 6 days 14:11:22.818181818\n",
            "average time difference between sessions 7SPC / STARKVILLE DWTN: 0 days 18:59:09.526666666\n",
            "average time difference between sessions 7SPC / STARKVILLE REC: 2 days 21:05:24.119565217\n",
            "average time difference between sessions 7SPC / TRI-COUNTY EMC: 6 days 06:30:56.540229885\n",
            "average time difference between sessions 7SPC / TTU DC FAST 1: 0 days 17:00:29.926417370\n",
            "average time difference between sessions 7SPC / TVPPA OFFICE: 0 days 06:24:56.636427076\n",
            "average time difference between sessions 7SPC / UC - CARTHAGE: 1 days 21:56:30.599508599\n",
            "average time difference between sessions 7SPC / UC - LIVINGSTON: 4 days 07:40:56.524017467\n",
            "average time difference between sessions 7SPC / VEC BYRDSTOWN: 21 days 04:18:17.265306122\n",
            "average time difference between sessions 7SPC / VEC JAMESTOWN: 11 days 07:40:22.709302325\n",
            "average time difference between sessions 7SPC / WARREN RECC BG: 1 days 12:44:20.512528473\n",
            "average time difference between sessions 7SPC / WARREN RECC LF: 8 days 23:42:24.041095890\n",
            "average time difference between sessions AEC / AEC CORP OFFICE: -1 days +15:05:55\n",
            "average time difference between sessions AEC / CORP OFFICE: 2 days 05:35:17.851851851\n",
            "average time difference between sessions AEC / STATION #1 (L): 1 days 03:25:03.333333333\n",
            "average time difference between sessions AEC / STATION #2 (R): 1 days 22:19:29.613861386\n",
            "average time difference between sessions BEA / STATION 1 (LL): 0 days 18:53:38.120481927\n",
            "average time difference between sessions BEA / STATION 2 (LM): 1 days 01:10:24.782051282\n",
            "average time difference between sessions BEA / STATION 3 (RM): 0 days 13:06:09.273584905\n",
            "average time difference between sessions BEA / STATION 4 (RR): 0 days 18:51:26.903225806\n",
            "average time difference between sessions BRIGHTRIDGE EV / BR-JC LIBRARY: -1 days +18:04:31.228927204\n",
            "average time difference between sessions BRIGHTRIDGE EV / BR-JONESBOROUGH: 0 days 20:42:50.474226804\n",
            "average time difference between sessions BRMEMC / STATION 1: -1 days +19:10:47.194444445\n",
            "average time difference between sessions BRMEMC / STATION 2: -1 days +14:52:40.268085107\n",
            "average time difference between sessions BTES / BTES OFFICE: 12 days 13:52:37\n",
            "average time difference between sessions BTES / CITY HALL: 1 days 19:54:12.221052631\n",
            "average time difference between sessions BTES / STATION 1 (LL): 0 days 22:32:55.060606060\n",
            "average time difference between sessions BTES / STATION 2 (LM): 0 days 23:18:52.148760330\n",
            "average time difference between sessions BTES / STATION 3 (RM): 0 days 09:31:24.005263157\n",
            "average time difference between sessions BTES / STATION 4 (RR): 0 days 16:58:24\n",
            "average time difference between sessions CLW / CLW MAIN ST: -1 days +20:31:34.666666667\n",
            "average time difference between sessions CLW / COLUBUS L&W: -1 days +13:38:13.333333334\n",
            "average time difference between sessions CLW / COLUMBUS L&W L2: 0 days 00:00:00\n",
            "average time difference between sessions CLW / MAIN ST: -1 days +21:04:07.886056972\n",
            "average time difference between sessions CRMC / CRMC-1 - L2LEFT: 4 days 15:33:12.493421052\n",
            "average time difference between sessions CRMC / CRMC-2- L2RIGHT: 10 days 07:56:45.851351351\n",
            "average time difference between sessions CRMC 1 / CRMC-1: 0 days 00:00:00\n",
            "average time difference between sessions CULLMAN PB / STATION 1: 1 days 04:07:21.820895522\n",
            "average time difference between sessions CULLMANELECTRIC / CEC MAIN OFFICE: 2 days 17:31:55.600600600\n",
            "average time difference between sessions CULLMANELECTRIC / STATION1-L: -1 days +13:05:44.368029740\n",
            "average time difference between sessions CULLMANELECTRIC / STATION2-R: -1 days +15:11:03.074311927\n",
            "average time difference between sessions DISTRICT 2 / STATION #1 (L): -1 days +18:58:16.250000\n",
            "average time difference between sessions DISTRICT 2 / STATION 1 (L): 1 days 18:57:09.692307692\n",
            "average time difference between sessions DISTRICT 2 / STATION 2 (R): 1 days 11:30:58\n",
            "average time difference between sessions EASY AUTO / OFFICE1: 1 days 10:33:17.886138613\n",
            "average time difference between sessions EASY AUTO / SHOP1: 7 days 19:05:13.927272727\n",
            "average time difference between sessions EBOFG / GUNTERSVILLE PD: -1 days +19:19:31.561349694\n",
            "average time difference between sessions EV_CHARGER / BR-JC LIBRARY: -1 days +19:10:11.984946237\n",
            "average time difference between sessions EV_CHARGER / BR-JONESBOROUGH: 2 days 23:43:07.512820512\n",
            "average time difference between sessions EV_CHARGER / CULLMAN PB: 0 days 04:49:00.832713754\n",
            "average time difference between sessions EV_CHARGER / GUNTERSVILLE PD: 0 days 11:58:29.561181434\n",
            "average time difference between sessions EV_CHARGER / HARTSELLE UTIL: 4 days 02:34:01\n",
            "average time difference between sessions EV_CHARGER / HOLSTON CONNECT: 0 days 21:24:50.858490566\n",
            "average time difference between sessions FPIA / LEFT STATION: -1 days +16:41:46.963240811\n",
            "average time difference between sessions FPIA / RIGHT STATION: -1 days +15:02:20.940337225\n",
            "average time difference between sessions HARTSELLE 1 / HARTSELLE 1: 0 days 20:02:32.531578947\n",
            "average time difference between sessions HARTSELLE 1 / STATION 2 (R): 0 days 05:08:51\n",
            "average time difference between sessions HOLSTON CONNECT / STATION 1: 0 days 16:08:26.411764705\n",
            "average time difference between sessions HOLSTONELECTRIC / CHURCH HILL-1: 3 days 00:00:43.666666666\n",
            "average time difference between sessions HOLSTONELECTRIC / CHURCH HILL-2: 5 days 13:59:42\n",
            "average time difference between sessions HOLSTONELECTRIC / STATION 1: 6 days 05:17:46.606741573\n",
            "average time difference between sessions I24 EXIT11 / STATION 1 (LL): 0 days 20:28:03.260000\n",
            "average time difference between sessions I24 EXIT11 / STATION 2 (LM): 0 days 10:47:28.478048780\n",
            "average time difference between sessions I24 EXIT11 / STATION 3 (RM): 0 days 01:32:37.773195876\n",
            "average time difference between sessions I24 EXIT11 / STATION 4 (RR): -1 days +16:41:02.908713693\n",
            "average time difference between sessions JEFFERSON AVE. / OXFORD STA1(L): -1 days +19:59:57.764102565\n",
            "average time difference between sessions JEFFERSON AVE. / OXFORD STA2(R): -1 days +17:57:12.926229509\n",
            "average time difference between sessions LAWRENCEBURG / STATION 1: 0 days 00:00:00\n",
            "average time difference between sessions LAWRENCEBURG / STATION 1 (L): 0 days 19:52:09.126666666\n",
            "average time difference between sessions LAWRENCEBURG / STATION 2 (R): 0 days 14:16:59.318435754\n",
            "average time difference between sessions LODGE CAST IRON / STATION 1: 0 days 00:00:00\n",
            "average time difference between sessions LODGE CAST IRON / STORE & MUSEUM: 0 days 16:12:03.988636363\n",
            "average time difference between sessions MU / MUC MAIN OFFICE: 2 days 14:34:49.941176470\n",
            "average time difference between sessions MU / MUC PWRENG BLDG: 10 days 07:36:19.681818181\n",
            "average time difference between sessions NEMEPA / NEMEPA CUSTOMER: 3 days 12:49:18.682432432\n",
            "average time difference between sessions NEMEPA / NEMEPA EMPLOYEE: 27 days 13:38:50.500000\n",
            "average time difference between sessions PARIS BPU / STATION 1(L): 1 days 01:36:28.432835820\n",
            "average time difference between sessions PARIS BPU / STATION 2(R): 1 days 08:24:21.016666666\n",
            "average time difference between sessions PEPA / STATION 1: -1 days +23:36:04.663157895\n",
            "average time difference between sessions PEPA / STATION 2: 0 days 07:48:13.472081218\n",
            "average time difference between sessions PES / LEFT STATION: 3 days 07:26:53.439393939\n",
            "average time difference between sessions PES / RIGHT STATION: 36 days 16:34:59.176470588\n",
            "average time difference between sessions SCOTTSBORO EPB / MAIN OFFICE: 0 days 16:23:14.112951807\n",
            "average time difference between sessions SCOTTSBORO EPB / SEPB DCFC (L): 0 days 01:18:59.991596638\n",
            "average time difference between sessions SCOTTSBORO EPB / SEPB DCFC (R): -1 days +21:27:13.242857143\n",
            "average time difference between sessions SES-TN / STATION 1: 3 days 07:41:33\n",
            "average time difference between sessions SES-TN / STATION 2: 0 days 16:42:33.800000\n",
            "average time difference between sessions STARKVILLE UTIL / STARKVILLE DWTN: 0 days 02:32:20.576576576\n",
            "average time difference between sessions STARKVILLE UTIL / STARKVILLE REC: 1 days 11:59:09.100877192\n",
            "average time difference between sessions STEMC / STATION 1 (L): 1 days 12:55:19.625000\n",
            "average time difference between sessions STEMC / STATION 2 (R): 0 days 17:47:13.272727272\n",
            "average time difference between sessions TRNG CENTER / TRAININGCENTER1: 8 days 12:32:27.500000\n",
            "average time difference between sessions TVPPA - 7SPC / BR-JC LIBRARY: 0 days 07:04:40.636363636\n",
            "average time difference between sessions TVPPA - 7SPC / BR-JONESBOROUGH: 2 days 10:00:19\n",
            "average time difference between sessions TVPPA - 7SPC / CFEC SPENCER: 0 days 00:00:00\n",
            "average time difference between sessions TVPPA - 7SPC / COLUMBUS MS: 0 days 19:36:11.866666666\n",
            "average time difference between sessions TVPPA - 7SPC / CULLMAN PB: 0 days 22:32:48\n",
            "average time difference between sessions TVPPA - 7SPC / GREENEVILLE TA: 3 days 21:39:58\n",
            "average time difference between sessions TVPPA - 7SPC / GUNTERSVILLE PD: 0 days 15:43:06.888888888\n",
            "average time difference between sessions TVPPA - 7SPC / HARTSELLE UTIL: 0 days 00:00:00\n",
            "average time difference between sessions TVPPA - 7SPC / HOLSTON CONNECT: 0 days 16:47:03.538461538\n",
            "average time difference between sessions TVPPA - 7SPC / NASA USSRC R: 0 days 04:46:34.450000\n",
            "average time difference between sessions TVPPA - 7SPC / SCES DOLLYWOOD: 0 days 17:57:52.909090909\n",
            "average time difference between sessions TVPPA - 7SPC / SCES DREAM MORE: -1 days +15:07:20.285714286\n",
            "average time difference between sessions TVPPA - 7SPC / SCES LECONTE 1: 0 days 00:00:00\n",
            "average time difference between sessions TVPPA - 7SPC / SCES LECONTE 2: 0 days 00:00:00\n",
            "average time difference between sessions TVPPA - 7SPC / SCES LECONTE 5: -1 days +15:47:27\n",
            "average time difference between sessions TVPPA - 7SPC / SMITHVILLE: 0 days 00:00:00\n",
            "average time difference between sessions TVPPA - 7SPC / SPARTA TN: 9 days 23:52:19.500000\n",
            "average time difference between sessions TVPPA - 7SPC / STARKVILLE DWTN: 0 days 12:39:26.833333333\n",
            "average time difference between sessions TVPPA - 7SPC / STARKVILLE REC: 0 days 12:07:47.777777777\n",
            "average time difference between sessions TVPPA - 7SPC / TTU DC FAST 1: 0 days 13:16:31\n",
            "average time difference between sessions TVPPA - 7SPC / TVPPA OFFICE: 0 days 17:16:49.562500\n",
            "average time difference between sessions TVPPA - 7SPC / UC - CARTHAGE: 6 days 01:50:15\n",
            "average time difference between sessions TVPPA - 7SPC / UC - LIVINGSTON: -1 days +16:29:06.500000\n",
            "average time difference between sessions TVPPA - 7SPC / VEC JAMESTOWN: -1 days +12:28:29\n",
            "average time difference between sessions TVPPA - 7SPC / WARREN RECC BG: 1 days 18:53:47\n",
            "average time difference between sessions TVPPA / BR-JC LIBRARY: -1 days +16:36:31.892857143\n",
            "average time difference between sessions TVPPA / BR-JONESBOROUGH: 1 days 01:52:38\n",
            "average time difference between sessions TVPPA / CULLMAN PB: 6 days 11:48:16\n",
            "average time difference between sessions TVPPA / GUNTERSVILLE PD: 1 days 09:59:59.714285714\n",
            "average time difference between sessions TVPPA / HARTSELLE UTIL: 2 days 05:54:36.500000\n",
            "average time difference between sessions TVPPA / HOLSTON CONNECT: 0 days 16:20:43.555555555\n",
            "average time difference between sessions TVPPA 7SPC / CORP OFFICE: -1 days +18:12:21.391691395\n",
            "average time difference between sessions TVPPA 7SPC / HOLSTON CONNECT: -1 days +10:22:33.400000\n",
            "average time difference between sessions UT PARKING / S7 STATION 1: 0 days 00:35:04.316197866\n",
            "average time difference between sessions WCMES / CITYHALL1-L: 0 days 20:58:29.131756756\n",
            "average time difference between sessions WCMES / CITYHALL2-R: 0 days 13:08:50.509536784\n",
            "average time difference between sessions WRECC / STATION 1: 0 days 04:55:03.555926544\n",
            "average time difference between sessions WRECC / STATION 2: -1 days +18:04:24.884398497\n"
          ]
        }
      ]
    },
    {
      "cell_type": "code",
      "source": [
        "df['Charging Time (hh:mm:ss)'] = df['Charging Time (hh:mm:ss)'].apply(lambda x: pd.to_timedelta(x.strftime('%H:%M:%S')) if x != datetime.time(0, 0) else pd.Timedelta(seconds=0))\n",
        "\n",
        "df['Start_Time_EST'] = pd.to_datetime(df['Start_Time_EST'])\n",
        "\n",
        "df['End_charging_time'] = df['Start_Time_EST'] + df['Charging Time (hh:mm:ss)']"
      ],
      "metadata": {
        "id": "GH3KDHm-KPyA"
      },
      "execution_count": 21,
      "outputs": []
    },
    {
      "cell_type": "code",
      "source": [
        "columns = ['Station Name', 'MAC Address', 'Org Name', 'Address 1', 'City', 'State/Province',\n",
        "           'Zip/Postal Code', 'Driver Zip/Postal Code', 'User ID', 'Latitude', 'Longitude', 'Port Type', \"DC\", \"L2\" ,\n",
        "           'Start_Time_EST','End_charging_time', 'End_Time_EST', 'time_difference_session','Total Duration','Charging Time',\n",
        "           'Time_Difference',\"previous_end_time\",\"Is_Weekday\",\"Is_Weekend\", 'Total Duration (hh:mm:ss)', 'Charging Time (hh:mm:ss)',\n",
        "           'Energy (kWh)', 'GHG Savings (kg)', 'Gasoline Savings (gallons)', 'Fee', 'Start SOC', 'End SOC',\n",
        "           'System S/N', 'Model Number', 'Vehicle MAC ID','Port Number','Plug Type','EVSE ID', 'Ended By']\n",
        "\n",
        "# Create a new DataFrame for ML\n",
        "df = df[columns]"
      ],
      "metadata": {
        "id": "F5DhIoxxKwz7"
      },
      "execution_count": 22,
      "outputs": []
    },
    {
      "cell_type": "code",
      "source": [
        "df.reset_index(drop=True, inplace=True)"
      ],
      "metadata": {
        "id": "f_VpXFBc6QRg"
      },
      "execution_count": 23,
      "outputs": []
    },
    {
      "cell_type": "markdown",
      "source": [
        "#Save sorted and modified df"
      ],
      "metadata": {
        "id": "Ga1-7yFwx99u"
      }
    },
    {
      "cell_type": "code",
      "source": [
        "#df.to_csv('/content/drive/MyDrive/Colab Notebooks/SevenStates_project/sorted_df.csv', index=False)"
      ],
      "metadata": {
        "id": "GAyuOIN7xiay"
      },
      "execution_count": null,
      "outputs": []
    },
    {
      "cell_type": "code",
      "source": [
        " df['User ID'].count()\n"
      ],
      "metadata": {
        "colab": {
          "base_uri": "https://localhost:8080/"
        },
        "id": "oN2frS8GbWvn",
        "outputId": "ee869810-85cd-4d84-daf9-b80f16c355a4"
      },
      "execution_count": 29,
      "outputs": [
        {
          "output_type": "execute_result",
          "data": {
            "text/plain": [
              "32613"
            ]
          },
          "metadata": {},
          "execution_count": 29
        }
      ]
    },
    {
      "cell_type": "code",
      "source": [
        "from google.colab import drive\n",
        "drive.mount('/content/drive')\n",
        "df = pd.read_csv('/content/drive/MyDrive/Colab Notebooks/SevenStates_project/sorted_df.csv')"
      ],
      "metadata": {
        "colab": {
          "base_uri": "https://localhost:8080/"
        },
        "id": "y0exh3_EK73S",
        "outputId": "7f0cb205-28b0-44cf-9a84-377d747dd178"
      },
      "execution_count": null,
      "outputs": [
        {
          "output_type": "stream",
          "name": "stdout",
          "text": [
            "Drive already mounted at /content/drive; to attempt to forcibly remount, call drive.mount(\"/content/drive\", force_remount=True).\n"
          ]
        }
      ]
    },
    {
      "cell_type": "code",
      "source": [
        "columns = ['Station Name', 'MAC Address', 'Org Name', 'Address 1', 'City', 'State/Province',\n",
        "           'Zip/Postal Code', 'Driver Zip/Postal Code', 'User ID', 'Latitude', 'Longitude', 'Port Type', \"DC\", \"L2\" ,\n",
        "           'Start_Time_EST','End_charging_time', 'End_Time_EST', 'time_difference_session','Total Duration','Charging Time',\n",
        "           'Time_Difference',\"previous_end_time\",\"Is_Weekday\",\"Is_Weekend\", 'Total Duration (hh:mm:ss)', 'Charging Time (hh:mm:ss)',\n",
        "           'Energy (kWh)', 'GHG Savings (kg)', 'Gasoline Savings (gallons)', 'Fee', 'Start SOC', 'End SOC',\n",
        "           'System S/N', 'Model Number', 'Vehicle MAC ID','Port Number','Plug Type','EVSE ID', 'Ended By']\n",
        "\n",
        "new_columns = columns + ['parking_label']\n",
        "new_df = pd.DataFrame(columns=new_columns)\n",
        "\n",
        "for index, row in df.iterrows():\n",
        "    new_df = new_df.append(row, ignore_index=True)\n",
        "\n",
        "    session_row = row.copy()\n",
        "\n",
        "    if index % 2 == 1 and row['Time_Difference'] > 0:\n",
        "        session_row['parking_label'] = 1\n",
        "    else:\n",
        "        session_row['parking_label'] = 0\n",
        "\n",
        "    new_df = new_df.append(session_row, ignore_index=True)\n",
        "\n",
        "\n"
      ],
      "metadata": {
        "colab": {
          "base_uri": "https://localhost:8080/"
        },
        "id": "BxqlfvQnFTqD",
        "outputId": "8bda2ae9-d6ff-4f43-a098-9d4be0781647"
      },
      "execution_count": null,
      "outputs": [
        {
          "output_type": "stream",
          "name": "stderr",
          "text": [
            "<ipython-input-11-eff742374b4f>:15: FutureWarning: The frame.append method is deprecated and will be removed from pandas in a future version. Use pandas.concat instead.\n",
            "  new_df = new_df.append(row, ignore_index=True)\n",
            "<ipython-input-11-eff742374b4f>:27: FutureWarning: The frame.append method is deprecated and will be removed from pandas in a future version. Use pandas.concat instead.\n",
            "  new_df = new_df.append(session_row, ignore_index=True)\n"
          ]
        }
      ]
    },
    {
      "cell_type": "code",
      "source": [
        "duplicated_df = df.copy()\n",
        "\n",
        "duplicated_df['Parking_Label'] = 'p'\n",
        "\n",
        "new_df = pd.concat([df, duplicated_df], keys=['original', 'duplicated'])\n",
        "\n",
        "new_df = new_df.sort_index(level=1)\n",
        "\n",
        "new_df = new_df.reset_index(drop=True)\n",
        "\n"
      ],
      "metadata": {
        "id": "WTIp2vK1FTyS"
      },
      "execution_count": null,
      "outputs": []
    },
    {
      "cell_type": "code",
      "source": [
        "new_df['Parking_Label'] = new_df['Parking_Label'].fillna('CH')\n"
      ],
      "metadata": {
        "id": "jYrXfRPXjzFu"
      },
      "execution_count": null,
      "outputs": []
    },
    {
      "cell_type": "code",
      "source": [
        "new_df.loc[new_df['Parking_Label']=='P', 'Start_Time_EST']= 0"
      ],
      "metadata": {
        "id": "Z-UIkJoapm9u"
      },
      "execution_count": null,
      "outputs": []
    },
    {
      "cell_type": "code",
      "source": [
        "new_df.loc[new_df['Parking_Label']=='CH', 'End_Time_EST']=0"
      ],
      "metadata": {
        "id": "5D2X5Tmx_RD9"
      },
      "execution_count": null,
      "outputs": []
    },
    {
      "cell_type": "code",
      "source": [
        "#  \"CH\" ---> Start_Time_EST to End_charging_time, End_Time_EST=0,        \"P\" ---> End_charging_time to  End_Time_EST , Start_Time_EST=0"
      ],
      "metadata": {
        "id": "7IzbMvKP-ysT"
      },
      "execution_count": null,
      "outputs": []
    },
    {
      "cell_type": "markdown",
      "source": [
        "# Unique hash id and hashing"
      ],
      "metadata": {
        "id": "RMz19e_fj2YS"
      }
    },
    {
      "cell_type": "code",
      "source": [
        "# Concatenate multiple columns to create a unique session ID.=\n",
        "new_df['Session_ID'] = new_df['User ID'].astype(str) + '_' + new_df['Start_Time_EST'].astype(str) + '_' + new_df['End_Time_EST'].astype(str) + '_'+ new_df['EVSE ID'].astype(str)\n"
      ],
      "metadata": {
        "id": "71zdydBLx8YO"
      },
      "execution_count": null,
      "outputs": []
    },
    {
      "cell_type": "code",
      "source": [
        "import hashlib\n",
        "\n",
        "def create_hash(session_id):\n",
        "    return hashlib.sha256(session_id.encode()).hexdigest()\n",
        "\n",
        "new_df['Session_ID_Hash'] = new_df['Session_ID'].apply(create_hash)\n"
      ],
      "metadata": {
        "id": "9zIIn2fA8sqF"
      },
      "execution_count": null,
      "outputs": []
    },
    {
      "cell_type": "code",
      "source": [
        "# Check for duplicates in the 'Session_ID' column\n",
        "duplicates = new_df.duplicated(subset=['Session_ID_Hash'], keep=False)\n",
        "\n",
        "# Print rows where duplicates occur\n",
        "#print(new_df[duplicates])\n"
      ],
      "metadata": {
        "id": "AUWpGEei8XbM"
      },
      "execution_count": null,
      "outputs": []
    },
    {
      "cell_type": "code",
      "source": [
        "new_df['Session_ID_Hash']"
      ],
      "metadata": {
        "colab": {
          "base_uri": "https://localhost:8080/"
        },
        "id": "ilvdjPU1J8Ya",
        "outputId": "30a93183-eda5-4578-fe7d-345d18a61f44"
      },
      "execution_count": null,
      "outputs": [
        {
          "output_type": "execute_result",
          "data": {
            "text/plain": [
              "0        6ac3967ef403dec4029030e2ff0501b62f586b792bcc19...\n",
              "1        ce2db3e9b66d1eaecb771b9d6178f9df441d8746c6b1b9...\n",
              "2        790662168c2bb7c4cbce5d190ed995dbadcf90aa0b96f9...\n",
              "3        d81286fbf9ea4912a29e06a8ab9e4c6e9f8a8641778968...\n",
              "4        07a2e3f3712783ce99aa8e3538bd8da9e77de74427e307...\n",
              "                               ...                        \n",
              "77243    f9995ce390de09b5b4c14a763ae675106efe2ac7358ce0...\n",
              "77244    8c62d1563d85f6da6fc25bbcdb74305545fa6eb8e46d0c...\n",
              "77245    dbb0a99ba238080246e902ee90e8730053f22da8c094e3...\n",
              "77246    9af2db4a81cdc9d42124c10b6a3561f51173f300aef800...\n",
              "77247    c931afa9ce314e6e4576c09678da427afabccd0053b14b...\n",
              "Name: Session_ID_Hash, Length: 77248, dtype: object"
            ]
          },
          "metadata": {},
          "execution_count": 23
        }
      ]
    },
    {
      "cell_type": "markdown",
      "source": [
        "# Normalization"
      ],
      "metadata": {
        "id": "VyaOn7C8TBLJ"
      }
    },
    {
      "cell_type": "code",
      "source": [
        "df['Start_Time_EST'] = pd.to_datetime(df['Start_Time_EST'])\n",
        "df['End_Time_EST'] = pd.to_datetime(df['End_Time_EST'])\n",
        "\n",
        "# Group by 'Station Name' and find the first and last rows for each group\n",
        "first_rows = df.groupby('Station Name').first()\n",
        "last_rows = df.groupby('Station Name').last()\n",
        "\n",
        "# Print the first and last sessions for each charging station\n",
        "for station, first_row in first_rows.iterrows():\n",
        "    last_row = last_rows.loc[station]\n",
        "    print(f\"Charging Station: {station}\")\n",
        "    print(f\"First Session - Start Time: {first_row['Start_Time_EST']}, End Time: {first_row['End_Time_EST']}\")\n",
        "    print(f\"Last Session - Start Time: {last_row['Start_Time_EST']}, End Time: {last_row['End_Time_EST']}\")\n",
        "    print()\n"
      ],
      "metadata": {
        "id": "MXot1QpLmVBq"
      },
      "execution_count": null,
      "outputs": []
    },
    {
      "cell_type": "code",
      "source": [
        "\n",
        "df['Start_Time_EST'] = pd.to_datetime(df['Start_Time_EST'])\n",
        "df['End_Time_EST'] = pd.to_datetime(df['End_Time_EST'])\n",
        "\n",
        "# Group by 'Station Name' and find the first and last rows for each group\n",
        "first_rows = df.groupby('Station Name').first()\n",
        "last_rows = df.groupby('Station Name').last()\n",
        "\n",
        "# Calculate the duration for each charging station\n",
        "for station, first_row in first_rows.iterrows():\n",
        "    last_row = last_rows.loc[station]\n",
        "    duration = last_row['End_Time_EST'] - first_row['Start_Time_EST']\n",
        "    print(f\"Charging Station: {station}, Data Duration: {duration}\")\n"
      ],
      "metadata": {
        "colab": {
          "base_uri": "https://localhost:8080/"
        },
        "id": "449qH2JHnAjt",
        "outputId": "27d5737d-85e9-4445-b1dc-f685de7c16c4"
      },
      "execution_count": null,
      "outputs": [
        {
          "output_type": "stream",
          "name": "stdout",
          "text": [
            "Charging Station: 7SPC / BR-JC LIBRARY_combined, Data Duration: 504 days 19:33:37\n",
            "Charging Station: 7SPC / BR-JONESBOROUGH, Data Duration: 507 days 02:51:05\n",
            "Charging Station: 7SPC / CFEC SPENCER, Data Duration: 1153 days 13:02:24\n",
            "Charging Station: 7SPC / COLUMBUS L&W, Data Duration: 114 days 08:29:43\n",
            "Charging Station: 7SPC / COLUMBUS MS, Data Duration: 972 days 03:49:26\n",
            "Charging Station: 7SPC / CULLMAN PB, Data Duration: 225 days 03:59:02\n",
            "Charging Station: 7SPC / DOLLYWOOD EMPL, Data Duration: 462 days 04:43:19\n",
            "Charging Station: 7SPC / GREENEVILLE TA, Data Duration: 1315 days 20:23:48\n",
            "Charging Station: 7SPC / GUNTERSVILLE PD, Data Duration: 490 days 04:01:08\n",
            "Charging Station: 7SPC / HARTSELLE UTIL, Data Duration: 243 days 08:26:39\n",
            "Charging Station: 7SPC / HOLSTON CONNECT, Data Duration: 620 days 01:00:47\n",
            "Charging Station: 7SPC / NASA USSRC L, Data Duration: 397 days 02:14:25\n",
            "Charging Station: 7SPC / NASA USSRC R, Data Duration: 1199 days 21:56:26\n",
            "Charging Station: 7SPC / SCES DOLLYWOOD, Data Duration: 1520 days 05:57:48\n",
            "Charging Station: 7SPC / SCES DREAM MORE, Data Duration: 1529 days 05:25:35\n",
            "Charging Station: 7SPC / SCES LECONTE 1, Data Duration: 1104 days 03:39:42\n",
            "Charging Station: 7SPC / SCES LECONTE 2, Data Duration: 1092 days 16:15:07\n",
            "Charging Station: 7SPC / SCES LECONTE 3, Data Duration: 1090 days 16:38:22\n",
            "Charging Station: 7SPC / SCES LECONTE 4, Data Duration: 1117 days 16:42:00\n",
            "Charging Station: 7SPC / SCES LECONTE 5, Data Duration: 626 days 03:11:36\n",
            "Charging Station: 7SPC / SEVIERVILLE DC1, Data Duration: 885 days 23:35:26\n",
            "Charging Station: 7SPC / SMITHVILLE, Data Duration: 1086 days 07:38:35\n",
            "Charging Station: 7SPC / SPARTA TN, Data Duration: 1143 days 21:25:26\n",
            "Charging Station: 7SPC / STARKVILLE DWTN, Data Duration: 1033 days 21:16:00\n",
            "Charging Station: 7SPC / STARKVILLE REC, Data Duration: 1034 days 03:37:46\n",
            "Charging Station: 7SPC / TRI-COUNTY EMC, Data Duration: 1280 days 02:26:14\n",
            "Charging Station: 7SPC / TTU DC FAST 1, Data Duration: 1281 days 07:06:16\n",
            "Charging Station: 7SPC / TVPPA OFFICE, Data Duration: 1688 days 06:47:27\n",
            "Charging Station: 7SPC / UC - CARTHAGE, Data Duration: 1219 days 15:21:17\n",
            "Charging Station: 7SPC / UC - LIVINGSTON, Data Duration: 1200 days 02:28:05\n",
            "Charging Station: 7SPC / VEC BYRDSTOWN, Data Duration: 1074 days 11:17:04\n",
            "Charging Station: 7SPC / VEC JAMESTOWN, Data Duration: 1046 days 06:17:03\n",
            "Charging Station: 7SPC / WARREN RECC BG, Data Duration: 1079 days 05:33:24\n",
            "Charging Station: 7SPC / WARREN RECC LF, Data Duration: 716 days 00:53:15\n",
            "Charging Station: AEC / AEC CORP OFFICE, Data Duration: 0 days 00:11:23\n",
            "Charging Station: AEC / CORP OFFICE, Data Duration: 1010 days 08:03:33\n",
            "Charging Station: AEC / STATION #1 (L), Data Duration: 283 days 06:36:33\n",
            "Charging Station: AEC / STATION #2 (R), Data Duration: 277 days 02:07:05\n",
            "Charging Station: BEA / STATION 1 (LL), Data Duration: 137 days 20:56:11\n",
            "Charging Station: BEA / STATION 2 (LM), Data Duration: 144 days 20:07:30\n",
            "Charging Station: BEA / STATION 3 (RM), Data Duration: 146 days 10:43:14\n",
            "Charging Station: BEA / STATION 4 (RR), Data Duration: 149 days 06:26:55\n",
            "Charging Station: BRIGHTRIDGE EV / BR-JC LIBRARY, Data Duration: 678 days 20:05:58\n",
            "Charging Station: BRIGHTRIDGE EV / BR-JONESBOROUGH, Data Duration: 670 days 23:42:40\n",
            "Charging Station: BRMEMC / STATION 1, Data Duration: 188 days 22:22:50\n",
            "Charging Station: BRMEMC / STATION 2, Data Duration: 188 days 22:35:25\n",
            "Charging Station: BTES / BTES OFFICE, Data Duration: 507 days 01:40:51\n",
            "Charging Station: BTES / CITY HALL, Data Duration: 519 days 08:25:17\n",
            "Charging Station: BTES / STATION 1 (LL), Data Duration: 231 days 17:23:21\n",
            "Charging Station: BTES / STATION 2 (LM), Data Duration: 217 days 12:21:03\n",
            "Charging Station: BTES / STATION 3 (RM), Data Duration: 225 days 19:24:13\n",
            "Charging Station: BTES / STATION 4 (RR), Data Duration: 232 days 20:56:08\n",
            "Charging Station: CLW / CLW MAIN ST, Data Duration: 6 days 06:22:54\n",
            "Charging Station: CLW / COLUBUS L&W, Data Duration: 0 days 20:14:54\n",
            "Charging Station: CLW / COLUMBUS L&W L2, Data Duration: 0 days 01:12:56\n",
            "Charging Station: CLW / MAIN ST, Data Duration: 534 days 22:39:27\n",
            "Charging Station: CRMC / CRMC-1 - L2LEFT, Data Duration: 832 days 22:19:02\n",
            "Charging Station: CRMC / CRMC-2- L2RIGHT, Data Duration: 825 days 21:55:32\n",
            "Charging Station: CRMC 1 / CRMC-1, Data Duration: 0 days 00:01:39\n",
            "Charging Station: CULLMAN PB / STATION 1, Data Duration: 696 days 06:03:30\n",
            "Charging Station: CULLMANELECTRIC / CEC MAIN OFFICE, Data Duration: 1229 days 07:31:13\n",
            "Charging Station: CULLMANELECTRIC / STATION1-L, Data Duration: 500 days 07:24:54\n",
            "Charging Station: CULLMANELECTRIC / STATION2-R, Data Duration: 507 days 03:19:26\n",
            "Charging Station: DISTRICT 2 / STATION #1 (L), Data Duration: 1 days 11:51:06\n",
            "Charging Station: DISTRICT 2 / STATION 1 (L), Data Duration: 199 days 05:59:22\n",
            "Charging Station: DISTRICT 2 / STATION 2 (R), Data Duration: 221 days 14:07:18\n",
            "Charging Station: EASY AUTO / OFFICE1, Data Duration: 458 days 04:50:00\n",
            "Charging Station: EASY AUTO / SHOP1, Data Duration: 482 days 21:38:00\n",
            "Charging Station: EBOFG / GUNTERSVILLE PD, Data Duration: 695 days 09:27:05\n",
            "Charging Station: EV_CHARGER / BR-JC LIBRARY, Data Duration: 331 days 00:31:49\n",
            "Charging Station: EV_CHARGER / BR-JONESBOROUGH, Data Duration: 307 days 04:13:19\n",
            "Charging Station: EV_CHARGER / CULLMAN PB, Data Duration: 311 days 11:05:47\n",
            "Charging Station: EV_CHARGER / GUNTERSVILLE PD, Data Duration: 312 days 11:34:24\n",
            "Charging Station: EV_CHARGER / HARTSELLE UTIL, Data Duration: 34 days 05:41:40\n",
            "Charging Station: EV_CHARGER / HOLSTON CONNECT, Data Duration: 189 days 04:17:02\n",
            "Charging Station: FPIA / LEFT STATION, Data Duration: 733 days 02:22:41\n",
            "Charging Station: FPIA / RIGHT STATION, Data Duration: 736 days 05:15:07\n",
            "Charging Station: HARTSELLE 1 / HARTSELLE 1, Data Duration: 968 days 10:31:51\n",
            "Charging Station: HARTSELLE 1 / STATION 2 (R), Data Duration: 16 days 12:00:01\n",
            "Charging Station: HOLSTON CONNECT / STATION 1, Data Duration: 28 days 08:58:45\n",
            "Charging Station: HOLSTONELECTRIC / CHURCH HILL-1, Data Duration: 22 days 04:10:11\n",
            "Charging Station: HOLSTONELECTRIC / CHURCH HILL-2, Data Duration: 12 days 06:02:55\n",
            "Charging Station: HOLSTONELECTRIC / STATION 1, Data Duration: 632 days 02:48:35\n",
            "Charging Station: I24 EXIT11 / STATION 1 (LL), Data Duration: 251 days 04:51:41\n",
            "Charging Station: I24 EXIT11 / STATION 2 (LM), Data Duration: 251 days 22:44:06\n",
            "Charging Station: I24 EXIT11 / STATION 3 (RM), Data Duration: 252 days 07:23:21\n",
            "Charging Station: I24 EXIT11 / STATION 4 (RR), Data Duration: 253 days 21:14:52\n",
            "Charging Station: JEFFERSON AVE. / OXFORD STA1(L), Data Duration: 126 days 16:39:15\n",
            "Charging Station: JEFFERSON AVE. / OXFORD STA2(R), Data Duration: 131 days 17:20:18\n",
            "Charging Station: LAWRENCEBURG / STATION 1, Data Duration: 0 days 00:53:33\n",
            "Charging Station: LAWRENCEBURG / STATION 1 (L), Data Duration: 251 days 20:36:56\n",
            "Charging Station: LAWRENCEBURG / STATION 2 (R), Data Duration: 257 days 21:34:14\n",
            "Charging Station: LODGE CAST IRON / STATION 1, Data Duration: 0 days 00:57:57\n",
            "Charging Station: LODGE CAST IRON / STORE & MUSEUM, Data Duration: 391 days 10:20:17\n",
            "Charging Station: MU / MUC MAIN OFFICE, Data Duration: 181 days 17:52:13\n",
            "Charging Station: MU / MUC PWRENG BLDG, Data Duration: 249 days 06:23:07\n",
            "Charging Station: NEMEPA / NEMEPA CUSTOMER, Data Duration: 656 days 20:46:04\n",
            "Charging Station: NEMEPA / NEMEPA EMPLOYEE, Data Duration: 635 days 03:20:07\n",
            "Charging Station: PARIS BPU / STATION 1(L), Data Duration: 129 days 01:43:25\n",
            "Charging Station: PARIS BPU / STATION 2(R), Data Duration: 128 days 05:07:06\n",
            "Charging Station: PEPA / STATION 1, Data Duration: 226 days 19:19:49\n",
            "Charging Station: PEPA / STATION 2, Data Duration: 228 days 08:13:52\n",
            "Charging Station: PES / LEFT STATION, Data Duration: 703 days 03:23:16\n",
            "Charging Station: PES / RIGHT STATION, Data Duration: 661 days 22:32:24\n",
            "Charging Station: SCOTTSBORO EPB / MAIN OFFICE, Data Duration: 1010 days 05:25:57\n",
            "Charging Station: SCOTTSBORO EPB / SEPB DCFC (L), Data Duration: 103 days 19:58:05\n",
            "Charging Station: SCOTTSBORO EPB / SEPB DCFC (R), Data Duration: 101 days 05:28:04\n",
            "Charging Station: SES-TN / STATION 1, Data Duration: 32 days 20:55:30\n",
            "Charging Station: SES-TN / STATION 2, Data Duration: 28 days 23:41:34\n",
            "Charging Station: STARKVILLE UTIL / STARKVILLE DWTN, Data Duration: 545 days 16:46:38\n",
            "Charging Station: STARKVILLE UTIL / STARKVILLE REC, Data Duration: 547 days 03:54:26\n",
            "Charging Station: STEMC / STATION 1 (L), Data Duration: 112 days 12:40:24\n",
            "Charging Station: STEMC / STATION 2 (R), Data Duration: 107 days 04:39:53\n",
            "Charging Station: TRNG CENTER / TRAININGCENTER1, Data Duration: 17 days 17:23:53\n",
            "Charging Station: TVPPA - 7SPC / BR-JC LIBRARY, Data Duration: 26 days 03:32:11\n",
            "Charging Station: TVPPA - 7SPC / BR-JONESBOROUGH, Data Duration: 12 days 05:03:08\n",
            "Charging Station: TVPPA - 7SPC / CFEC SPENCER, Data Duration: 0 days 00:15:52\n",
            "Charging Station: TVPPA - 7SPC / COLUMBUS MS, Data Duration: 26 days 23:42:54\n",
            "Charging Station: TVPPA - 7SPC / CULLMAN PB, Data Duration: 12 days 06:36:12\n",
            "Charging Station: TVPPA - 7SPC / GREENEVILLE TA, Data Duration: 22 days 18:44:04\n",
            "Charging Station: TVPPA - 7SPC / GUNTERSVILLE PD, Data Duration: 13 days 01:31:42\n",
            "Charging Station: TVPPA - 7SPC / HARTSELLE UTIL, Data Duration: 0 days 01:05:18\n",
            "Charging Station: TVPPA - 7SPC / HOLSTON CONNECT, Data Duration: 20 days 04:08:57\n",
            "Charging Station: TVPPA - 7SPC / NASA USSRC R, Data Duration: 21 days 00:55:44\n",
            "Charging Station: TVPPA - 7SPC / SCES DOLLYWOOD, Data Duration: 17 days 05:54:01\n",
            "Charging Station: TVPPA - 7SPC / SCES DREAM MORE, Data Duration: 15 days 16:38:40\n",
            "Charging Station: TVPPA - 7SPC / SCES LECONTE 1, Data Duration: 0 days 00:01:59\n",
            "Charging Station: TVPPA - 7SPC / SCES LECONTE 2, Data Duration: 0 days 03:46:21\n",
            "Charging Station: TVPPA - 7SPC / SCES LECONTE 5, Data Duration: 0 days 00:05:26\n",
            "Charging Station: TVPPA - 7SPC / SMITHVILLE, Data Duration: 0 days 01:36:11\n",
            "Charging Station: TVPPA - 7SPC / SPARTA TN, Data Duration: 20 days 22:02:05\n",
            "Charging Station: TVPPA - 7SPC / STARKVILLE DWTN, Data Duration: 27 days 19:10:58\n",
            "Charging Station: TVPPA - 7SPC / STARKVILLE REC, Data Duration: 11 days 20:36:03\n",
            "Charging Station: TVPPA - 7SPC / TTU DC FAST 1, Data Duration: 19 days 02:31:21\n",
            "Charging Station: TVPPA - 7SPC / TVPPA OFFICE, Data Duration: 27 days 00:14:28\n",
            "Charging Station: TVPPA - 7SPC / UC - CARTHAGE, Data Duration: 13 days 04:35:52\n",
            "Charging Station: TVPPA - 7SPC / UC - LIVINGSTON, Data Duration: 0 days 02:43:41\n",
            "Charging Station: TVPPA - 7SPC / VEC JAMESTOWN, Data Duration: 0 days 00:04:35\n",
            "Charging Station: TVPPA - 7SPC / WARREN RECC BG, Data Duration: 19 days 23:41:27\n",
            "Charging Station: TVPPA / BR-JC LIBRARY, Data Duration: 16 days 04:17:27\n",
            "Charging Station: TVPPA / BR-JONESBOROUGH, Data Duration: 4 days 14:44:54\n",
            "Charging Station: TVPPA / CULLMAN PB, Data Duration: 13 days 12:56:28\n",
            "Charging Station: TVPPA / GUNTERSVILLE PD, Data Duration: 15 days 00:27:22\n",
            "Charging Station: TVPPA / HARTSELLE UTIL, Data Duration: 18 days 05:10:46\n",
            "Charging Station: TVPPA / HOLSTON CONNECT, Data Duration: 13 days 04:13:17\n",
            "Charging Station: TVPPA 7SPC / CORP OFFICE, Data Duration: 216 days 01:05:13\n",
            "Charging Station: TVPPA 7SPC / HOLSTON CONNECT, Data Duration: 0 days 02:14:38\n",
            "Charging Station: UT PARKING / S7 STATION 1, Data Duration: 838 days 16:22:33\n",
            "Charging Station: WCMES / CITYHALL1-L, Data Duration: 506 days 07:00:52\n",
            "Charging Station: WCMES / CITYHALL2-R, Data Duration: 506 days 21:46:18\n",
            "Charging Station: WRECC / STATION 1, Data Duration: 618 days 22:12:11\n",
            "Charging Station: WRECC / STATION 2, Data Duration: 631 days 07:03:01\n"
          ]
        }
      ]
    },
    {
      "cell_type": "code",
      "source": [
        "\n",
        "df['Start_Time_EST'] = pd.to_datetime(df['Start_Time_EST'])\n",
        "df['End_Time_EST'] = pd.to_datetime(df['End_Time_EST'])\n",
        "\n",
        "first_rows = df.groupby('Station Name').first()\n",
        "last_rows = df.groupby('Station Name').last()\n",
        "\n",
        "durations = []\n",
        "station_names = []\n",
        "for station, first_row in first_rows.iterrows():\n",
        "    last_row = last_rows.loc[station]\n",
        "    duration = (last_row['End_Time_EST'] - first_row['Start_Time_EST']).total_seconds() / 3600 / 24  # Convert to days\n",
        "    durations.append(duration)\n",
        "    station_names.append(station)\n",
        "\n",
        "# ------------- statistics\n",
        "mean_duration = pd.Series(durations).mean()\n",
        "median_duration = pd.Series(durations).median()\n",
        "min_duration = pd.Series(durations).min()\n",
        "max_duration = pd.Series(durations).max()\n",
        "\n",
        "plt.figure(figsize=(10, 6))\n",
        "plt.barh(range(len(durations)), durations, color='skyblue')  # Use range(len(durations)) as y-values\n",
        "plt.xlabel('Duration (days)')\n",
        "plt.ylabel('')  # Empty string to remove y-axis label\n",
        "plt.title('Duration of Data for Each Charging Station')\n",
        "plt.grid(axis='x')\n",
        "\n",
        "plt.text(0.95, 0.9, f'Mean: {mean_duration:.2f} days', horizontalalignment='right', transform=plt.gca().transAxes)\n",
        "plt.text(0.95, 0.85, f'Median: {median_duration:.2f} days', horizontalalignment='right', transform=plt.gca().transAxes)\n",
        "plt.text(0.95, 0.8, f'Min: {min_duration:.2f} days', horizontalalignment='right', transform=plt.gca().transAxes)\n",
        "plt.text(0.95, 0.75, f'Max: {max_duration:.2f} days', horizontalalignment='right', transform=plt.gca().transAxes)\n",
        "\n",
        "plt.tight_layout()\n",
        "plt.show()\n",
        "\n"
      ],
      "metadata": {
        "colab": {
          "base_uri": "https://localhost:8080/",
          "height": 607
        },
        "id": "wDl610PtoXTb",
        "outputId": "ba46e206-4e02-4091-f1ca-35fe1fb0c52d"
      },
      "execution_count": null,
      "outputs": [
        {
          "output_type": "display_data",
          "data": {
            "text/plain": [
              "<Figure size 1000x600 with 1 Axes>"
            ],
            "image/png": "[encoded data removed]"
          },
          "metadata": {}
        }
      ]
    },
    {
      "cell_type": "code",
      "source": [
        "\n",
        "df.sort_values(by=['Station Name', 'Start_Time_EST'], inplace=True)\n",
        "\n",
        "df_grouped = df.groupby('Station Name').agg({\n",
        "    'Start_Time_EST': 'first',\n",
        "    'End_Time_EST': 'last'\n",
        "}).reset_index()\n",
        "\n",
        "df_grouped['Time_Difference_Days'] = (df_grouped['End_Time_EST'] - df_grouped['Start_Time_EST']).dt.days\n",
        "\n",
        "plt.figure(figsize=(10, 6))\n",
        "plt.bar(df_grouped.index, df_grouped['Time_Difference_Days'], color='skyblue')\n",
        "plt.xlabel('Station Index')\n",
        "plt.ylabel('Time Difference (Days)')\n",
        "plt.title('Time Difference Between First and Last Data for Each Station')\n",
        "plt.xticks([])\n",
        "plt.grid(axis='y', linestyle='--', alpha=0.7)\n",
        "\n",
        "# ------------------------------------------------------statistics\n",
        "mean_time_diff = df_grouped['Time_Difference_Days'].mean()\n",
        "max_time_diff = df_grouped['Time_Difference_Days'].max()\n",
        "median_time_diff = df_grouped['Time_Difference_Days'].median()\n",
        "\n",
        "plt.axhline(y=mean_time_diff, color='orange', linestyle='--', label=f'Mean: {mean_time_diff:.2f} days')\n",
        "plt.axhline(y=max_time_diff, color='red', linestyle='--', label=f'Max: {max_time_diff:.2f} days')\n",
        "plt.axhline(y=median_time_diff, color='green', linestyle='--', label=f'Median: {median_time_diff:.2f} days')\n",
        "\n",
        "plt.legend()\n",
        "plt.show()\n"
      ],
      "metadata": {
        "colab": {
          "base_uri": "https://localhost:8080/",
          "height": 540
        },
        "id": "rb59B-6VusuR",
        "outputId": "bf0709b7-e8ed-4355-b7d4-2783c8c7ac47"
      },
      "execution_count": null,
      "outputs": [
        {
          "output_type": "display_data",
          "data": {
            "text/plain": [
              "<Figure size 1000x600 with 1 Axes>"
            ],
            "image/png": "[encoded data removed]"
          },
          "metadata": {}
        }
      ]
    },
    {
      "cell_type": "code",
      "source": [],
      "metadata": {
        "id": "vQPTcPy0obMI"
      },
      "execution_count": null,
      "outputs": []
    },
    {
      "cell_type": "code",
      "source": [],
      "metadata": {
        "id": "BF8hcXfbocUO"
      },
      "execution_count": null,
      "outputs": []
    },
    {
      "cell_type": "code",
      "source": [
        "date_columns = ['Start_Time_EST','End_charging_time', 'End_Time_EST' ]\n",
        "for col in date_columns:\n",
        "  df[col] = pd.to_datetime(df[col])\n",
        "\n",
        "min_date= df[date_columns].min().min()\n",
        "max_date = df[date_columns].max().max()\n",
        "\n",
        "for col in date_columns:\n",
        "  df[col +'_Norm']= (df[col]-min_date)/ (max_date-min_date)\n",
        "\n",
        "# df['NORMA'] = (df.A- min_a) *(max_norm - min_norm) / (max_a-min_a) + min_norm ,    min_norm=-1  max_norm=1\n"
      ],
      "metadata": {
        "id": "qAvVPl320atV"
      },
      "execution_count": null,
      "outputs": []
    },
    {
      "cell_type": "code",
      "source": [
        "num_columns = ['Total Duration', 'Charging Time', 'Energy (kWh)', 'GHG Savings (kg)', 'Gasoline Savings (gallons)', 'Fee']\n",
        "for col in num_columns:\n",
        "  min_val = df[col].min()\n",
        "  max_val = df[col].max()\n",
        "  df[col + '_Norm'] = (df[col] - min_val) / (max_val - min_val)\n"
      ],
      "metadata": {
        "id": "OwA86h6ZdJfi"
      },
      "execution_count": null,
      "outputs": []
    },
    {
      "cell_type": "code",
      "source": [
        "df"
      ],
      "metadata": {
        "colab": {
          "base_uri": "https://localhost:8080/",
          "height": 999
        },
        "id": "OqbV3pcSlSz0",
        "outputId": "e220d8dd-e904-4ac4-bf0d-b4585b9f9d00"
      },
      "execution_count": null,
      "outputs": [
        {
          "output_type": "execute_result",
          "data": {
            "text/plain": [
              "                        Station Name          MAC Address  \\\n",
              "0      7SPC / BR-JC LIBRARY_combined  0024:B100:0003:7806   \n",
              "1      7SPC / BR-JC LIBRARY_combined  0024:B100:0003:7806   \n",
              "2      7SPC / BR-JC LIBRARY_combined  0024:B100:0003:7806   \n",
              "3      7SPC / BR-JC LIBRARY_combined  0024:B100:0003:7806   \n",
              "4      7SPC / BR-JC LIBRARY_combined  0024:B100:0003:7806   \n",
              "...                              ...                  ...   \n",
              "38619              WRECC / STATION 2  0024:B100:0008:00F2   \n",
              "38620              WRECC / STATION 2  0024:B100:0008:00F2   \n",
              "38621              WRECC / STATION 2  0024:B100:0008:00F2   \n",
              "38622              WRECC / STATION 2  0024:B100:0008:00F2   \n",
              "38623              WRECC / STATION 2  0024:B100:0008:00F2   \n",
              "\n",
              "                      Org Name                  Address 1          City  \\\n",
              "0      Seven States Power Corp              201 N Roan St  Johnson City   \n",
              "1      Seven States Power Corp              201 N Roan St  Johnson City   \n",
              "2      Seven States Power Corp              201 N Roan St  Johnson City   \n",
              "3      Seven States Power Corp              201 N Roan St  Johnson City   \n",
              "4      Seven States Power Corp              201 N Roan St  Johnson City   \n",
              "...                        ...                        ...           ...   \n",
              "38619              Warren RECC  675 Western Kentucky Pkwy    Beaver Dam   \n",
              "38620              Warren RECC  675 Western Kentucky Pkwy    Beaver Dam   \n",
              "38621              Warren RECC  675 Western Kentucky Pkwy    Beaver Dam   \n",
              "38622              Warren RECC  675 Western Kentucky Pkwy    Beaver Dam   \n",
              "38623              Warren RECC  675 Western Kentucky Pkwy    Beaver Dam   \n",
              "\n",
              "      State/Province  Zip/Postal Code Driver Zip/Postal Code   User ID  \\\n",
              "0          Tennessee            37601                  37687   4407231   \n",
              "1          Tennessee            37601                  30703   2770771   \n",
              "2          Tennessee            37601                  37687   4407231   \n",
              "3          Tennessee            37601                  37687   4407231   \n",
              "4          Tennessee            37601                  30703   2770771   \n",
              "...              ...              ...                    ...       ...   \n",
              "38619       Kentucky            42320                  37069  36139071   \n",
              "38620       Kentucky            42320                  37069  36139071   \n",
              "38621       Kentucky            42320                  40204  34152541   \n",
              "38622       Kentucky            42320                    NaN   452481V   \n",
              "38623       Kentucky            42320                    NaN   452481V   \n",
              "\n",
              "        Latitude  ...             Ended By Start_Time_EST_Norm  \\\n",
              "0      36.319176  ...  Plug Out at Vehicle            0.173102   \n",
              "1      36.319176  ...             Customer            0.173115   \n",
              "2      36.319176  ...  Plug Out at Vehicle            0.173129   \n",
              "3      36.319176  ...  Plug Out at Vehicle            0.173137   \n",
              "4      36.319176  ...             Customer            0.173143   \n",
              "...          ...  ...                  ...                 ...   \n",
              "38619  37.377178  ...  Plug Out at Station            0.997367   \n",
              "38620  37.377178  ...        ProximityLost            0.997376   \n",
              "38621  37.377178  ...  Plug Out at Station            0.998264   \n",
              "38622  37.377178  ...  Plug Out at Station            0.998875   \n",
              "38623  37.377178  ...  Plug Out at Station            0.999513   \n",
              "\n",
              "       End_charging_time_Norm  End_Time_EST_Norm Total Duration_Norm  \\\n",
              "0                    0.173108           0.173108            0.012160   \n",
              "1                    0.173115           0.173115            0.000117   \n",
              "2                    0.173136           0.173136            0.014795   \n",
              "3                    0.173172           0.173208            0.136781   \n",
              "4                    0.173146           0.173146            0.006296   \n",
              "...                       ...                ...                 ...   \n",
              "38619                0.997373           0.997373            0.012720   \n",
              "38620                0.997382           0.997382            0.011997   \n",
              "38621                0.998271           0.998271            0.014061   \n",
              "38622                0.998899           0.998899            0.046414   \n",
              "38623                0.999530           0.999530            0.033624   \n",
              "\n",
              "      Charging Time_Norm Energy (kWh)_Norm GHG Savings (kg)_Norm  \\\n",
              "0               0.013136          0.012060              0.006788   \n",
              "1               0.000000          0.000000              0.000000   \n",
              "2               0.015991          0.014695              0.008263   \n",
              "3               0.073204          0.063676              0.035819   \n",
              "4               0.006574          0.005938              0.003338   \n",
              "...                  ...               ...                   ...   \n",
              "38619           0.013516          0.133320              0.134995   \n",
              "38620           0.013021          0.120946              0.122459   \n",
              "38621           0.015255          0.148429              0.150292   \n",
              "38622           0.050067          0.379220              0.383972   \n",
              "38623           0.036284          0.341452              0.345735   \n",
              "\n",
              "       Gasoline Savings (gallons)_Norm  Fee_Norm  \n",
              "0                             0.012077  0.000000  \n",
              "1                             0.000000  0.000000  \n",
              "2                             0.014719  0.000000  \n",
              "3                             0.063688  0.020844  \n",
              "4                             0.005944  0.001459  \n",
              "...                                ...       ...  \n",
              "38619                         0.133321  0.075143  \n",
              "38620                         0.120961  0.068161  \n",
              "38621                         0.148417  0.083585  \n",
              "38622                         0.379205  0.213653  \n",
              "38623                         0.341463  0.192392  \n",
              "\n",
              "[38624 rows x 48 columns]"
            ],
            "text/html": [
              "\n",
              "  <div id=\"df-01231caa-e182-4d0b-9ed7-cfff5f06c8b0\" class=\"colab-df-container\">\n",
              "    <div>\n",
              "<style scoped>\n",
              "    .dataframe tbody tr th:only-of-type {\n",
              "        vertical-align: middle;\n",
              "    }\n",
              "\n",
              "    .dataframe tbody tr th {\n",
              "        vertical-align: top;\n",
              "    }\n",
              "\n",
              "    .dataframe thead th {\n",
              "        text-align: right;\n",
              "    }\n",
              "</style>\n",
              "<table border=\"1\" class=\"dataframe\">\n",
              "  <thead>\n",
              "    <tr style=\"text-align: right;\">\n",
              "      <th></th>\n",
              "      <th>Station Name</th>\n",
              "      <th>MAC Address</th>\n",
              "      <th>Org Name</th>\n",
              "      <th>Address 1</th>\n",
              "      <th>City</th>\n",
              "      <th>State/Province</th>\n",
              "      <th>Zip/Postal Code</th>\n",
              "      <th>Driver Zip/Postal Code</th>\n",
              "      <th>User ID</th>\n",
              "      <th>Latitude</th>\n",
              "      <th>...</th>\n",
              "      <th>Ended By</th>\n",
              "      <th>Start_Time_EST_Norm</th>\n",
              "      <th>End_charging_time_Norm</th>\n",
              "      <th>End_Time_EST_Norm</th>\n",
              "      <th>Total Duration_Norm</th>\n",
              "      <th>Charging Time_Norm</th>\n",
              "      <th>Energy (kWh)_Norm</th>\n",
              "      <th>GHG Savings (kg)_Norm</th>\n",
              "      <th>Gasoline Savings (gallons)_Norm</th>\n",
              "      <th>Fee_Norm</th>\n",
              "    </tr>\n",
              "  </thead>\n",
              "  <tbody>\n",
              "    <tr>\n",
              "      <th>0</th>\n",
              "      <td>7SPC / BR-JC LIBRARY_combined</td>\n",
              "      <td>0024:B100:0003:7806</td>\n",
              "      <td>Seven States Power Corp</td>\n",
              "      <td>201 N Roan St</td>\n",
              "      <td>Johnson City</td>\n",
              "      <td>Tennessee</td>\n",
              "      <td>37601</td>\n",
              "      <td>37687</td>\n",
              "      <td>4407231</td>\n",
              "      <td>36.319176</td>\n",
              "      <td>...</td>\n",
              "      <td>Plug Out at Vehicle</td>\n",
              "      <td>0.173102</td>\n",
              "      <td>0.173108</td>\n",
              "      <td>0.173108</td>\n",
              "      <td>0.012160</td>\n",
              "      <td>0.013136</td>\n",
              "      <td>0.012060</td>\n",
              "      <td>0.006788</td>\n",
              "      <td>0.012077</td>\n",
              "      <td>0.000000</td>\n",
              "    </tr>\n",
              "    <tr>\n",
              "      <th>1</th>\n",
              "      <td>7SPC / BR-JC LIBRARY_combined</td>\n",
              "      <td>0024:B100:0003:7806</td>\n",
              "      <td>Seven States Power Corp</td>\n",
              "      <td>201 N Roan St</td>\n",
              "      <td>Johnson City</td>\n",
              "      <td>Tennessee</td>\n",
              "      <td>37601</td>\n",
              "      <td>30703</td>\n",
              "      <td>2770771</td>\n",
              "      <td>36.319176</td>\n",
              "      <td>...</td>\n",
              "      <td>Customer</td>\n",
              "      <td>0.173115</td>\n",
              "      <td>0.173115</td>\n",
              "      <td>0.173115</td>\n",
              "      <td>0.000117</td>\n",
              "      <td>0.000000</td>\n",
              "      <td>0.000000</td>\n",
              "      <td>0.000000</td>\n",
              "      <td>0.000000</td>\n",
              "      <td>0.000000</td>\n",
              "    </tr>\n",
              "    <tr>\n",
              "      <th>2</th>\n",
              "      <td>7SPC / BR-JC LIBRARY_combined</td>\n",
              "      <td>0024:B100:0003:7806</td>\n",
              "      <td>Seven States Power Corp</td>\n",
              "      <td>201 N Roan St</td>\n",
              "      <td>Johnson City</td>\n",
              "      <td>Tennessee</td>\n",
              "      <td>37601</td>\n",
              "      <td>37687</td>\n",
              "      <td>4407231</td>\n",
              "      <td>36.319176</td>\n",
              "      <td>...</td>\n",
              "      <td>Plug Out at Vehicle</td>\n",
              "      <td>0.173129</td>\n",
              "      <td>0.173136</td>\n",
              "      <td>0.173136</td>\n",
              "      <td>0.014795</td>\n",
              "      <td>0.015991</td>\n",
              "      <td>0.014695</td>\n",
              "      <td>0.008263</td>\n",
              "      <td>0.014719</td>\n",
              "      <td>0.000000</td>\n",
              "    </tr>\n",
              "    <tr>\n",
              "      <th>3</th>\n",
              "      <td>7SPC / BR-JC LIBRARY_combined</td>\n",
              "      <td>0024:B100:0003:7806</td>\n",
              "      <td>Seven States Power Corp</td>\n",
              "      <td>201 N Roan St</td>\n",
              "      <td>Johnson City</td>\n",
              "      <td>Tennessee</td>\n",
              "      <td>37601</td>\n",
              "      <td>37687</td>\n",
              "      <td>4407231</td>\n",
              "      <td>36.319176</td>\n",
              "      <td>...</td>\n",
              "      <td>Plug Out at Vehicle</td>\n",
              "      <td>0.173137</td>\n",
              "      <td>0.173172</td>\n",
              "      <td>0.173208</td>\n",
              "      <td>0.136781</td>\n",
              "      <td>0.073204</td>\n",
              "      <td>0.063676</td>\n",
              "      <td>0.035819</td>\n",
              "      <td>0.063688</td>\n",
              "      <td>0.020844</td>\n",
              "    </tr>\n",
              "    <tr>\n",
              "      <th>4</th>\n",
              "      <td>7SPC / BR-JC LIBRARY_combined</td>\n",
              "      <td>0024:B100:0003:7806</td>\n",
              "      <td>Seven States Power Corp</td>\n",
              "      <td>201 N Roan St</td>\n",
              "      <td>Johnson City</td>\n",
              "      <td>Tennessee</td>\n",
              "      <td>37601</td>\n",
              "      <td>30703</td>\n",
              "      <td>2770771</td>\n",
              "      <td>36.319176</td>\n",
              "      <td>...</td>\n",
              "      <td>Customer</td>\n",
              "      <td>0.173143</td>\n",
              "      <td>0.173146</td>\n",
              "      <td>0.173146</td>\n",
              "      <td>0.006296</td>\n",
              "      <td>0.006574</td>\n",
              "      <td>0.005938</td>\n",
              "      <td>0.003338</td>\n",
              "      <td>0.005944</td>\n",
              "      <td>0.001459</td>\n",
              "    </tr>\n",
              "    <tr>\n",
              "      <th>...</th>\n",
              "      <td>...</td>\n",
              "      <td>...</td>\n",
              "      <td>...</td>\n",
              "      <td>...</td>\n",
              "      <td>...</td>\n",
              "      <td>...</td>\n",
              "      <td>...</td>\n",
              "      <td>...</td>\n",
              "      <td>...</td>\n",
              "      <td>...</td>\n",
              "      <td>...</td>\n",
              "      <td>...</td>\n",
              "      <td>...</td>\n",
              "      <td>...</td>\n",
              "      <td>...</td>\n",
              "      <td>...</td>\n",
              "      <td>...</td>\n",
              "      <td>...</td>\n",
              "      <td>...</td>\n",
              "      <td>...</td>\n",
              "      <td>...</td>\n",
              "    </tr>\n",
              "    <tr>\n",
              "      <th>38619</th>\n",
              "      <td>WRECC / STATION 2</td>\n",
              "      <td>0024:B100:0008:00F2</td>\n",
              "      <td>Warren RECC</td>\n",
              "      <td>675 Western Kentucky Pkwy</td>\n",
              "      <td>Beaver Dam</td>\n",
              "      <td>Kentucky</td>\n",
              "      <td>42320</td>\n",
              "      <td>37069</td>\n",
              "      <td>36139071</td>\n",
              "      <td>37.377178</td>\n",
              "      <td>...</td>\n",
              "      <td>Plug Out at Station</td>\n",
              "      <td>0.997367</td>\n",
              "      <td>0.997373</td>\n",
              "      <td>0.997373</td>\n",
              "      <td>0.012720</td>\n",
              "      <td>0.013516</td>\n",
              "      <td>0.133320</td>\n",
              "      <td>0.134995</td>\n",
              "      <td>0.133321</td>\n",
              "      <td>0.075143</td>\n",
              "    </tr>\n",
              "    <tr>\n",
              "      <th>38620</th>\n",
              "      <td>WRECC / STATION 2</td>\n",
              "      <td>0024:B100:0008:00F2</td>\n",
              "      <td>Warren RECC</td>\n",
              "      <td>675 Western Kentucky Pkwy</td>\n",
              "      <td>Beaver Dam</td>\n",
              "      <td>Kentucky</td>\n",
              "      <td>42320</td>\n",
              "      <td>37069</td>\n",
              "      <td>36139071</td>\n",
              "      <td>37.377178</td>\n",
              "      <td>...</td>\n",
              "      <td>ProximityLost</td>\n",
              "      <td>0.997376</td>\n",
              "      <td>0.997382</td>\n",
              "      <td>0.997382</td>\n",
              "      <td>0.011997</td>\n",
              "      <td>0.013021</td>\n",
              "      <td>0.120946</td>\n",
              "      <td>0.122459</td>\n",
              "      <td>0.120961</td>\n",
              "      <td>0.068161</td>\n",
              "    </tr>\n",
              "    <tr>\n",
              "      <th>38621</th>\n",
              "      <td>WRECC / STATION 2</td>\n",
              "      <td>0024:B100:0008:00F2</td>\n",
              "      <td>Warren RECC</td>\n",
              "      <td>675 Western Kentucky Pkwy</td>\n",
              "      <td>Beaver Dam</td>\n",
              "      <td>Kentucky</td>\n",
              "      <td>42320</td>\n",
              "      <td>40204</td>\n",
              "      <td>34152541</td>\n",
              "      <td>37.377178</td>\n",
              "      <td>...</td>\n",
              "      <td>Plug Out at Station</td>\n",
              "      <td>0.998264</td>\n",
              "      <td>0.998271</td>\n",
              "      <td>0.998271</td>\n",
              "      <td>0.014061</td>\n",
              "      <td>0.015255</td>\n",
              "      <td>0.148429</td>\n",
              "      <td>0.150292</td>\n",
              "      <td>0.148417</td>\n",
              "      <td>0.083585</td>\n",
              "    </tr>\n",
              "    <tr>\n",
              "      <th>38622</th>\n",
              "      <td>WRECC / STATION 2</td>\n",
              "      <td>0024:B100:0008:00F2</td>\n",
              "      <td>Warren RECC</td>\n",
              "      <td>675 Western Kentucky Pkwy</td>\n",
              "      <td>Beaver Dam</td>\n",
              "      <td>Kentucky</td>\n",
              "      <td>42320</td>\n",
              "      <td>NaN</td>\n",
              "      <td>452481V</td>\n",
              "      <td>37.377178</td>\n",
              "      <td>...</td>\n",
              "      <td>Plug Out at Station</td>\n",
              "      <td>0.998875</td>\n",
              "      <td>0.998899</td>\n",
              "      <td>0.998899</td>\n",
              "      <td>0.046414</td>\n",
              "      <td>0.050067</td>\n",
              "      <td>0.379220</td>\n",
              "      <td>0.383972</td>\n",
              "      <td>0.379205</td>\n",
              "      <td>0.213653</td>\n",
              "    </tr>\n",
              "    <tr>\n",
              "      <th>38623</th>\n",
              "      <td>WRECC / STATION 2</td>\n",
              "      <td>0024:B100:0008:00F2</td>\n",
              "      <td>Warren RECC</td>\n",
              "      <td>675 Western Kentucky Pkwy</td>\n",
              "      <td>Beaver Dam</td>\n",
              "      <td>Kentucky</td>\n",
              "      <td>42320</td>\n",
              "      <td>NaN</td>\n",
              "      <td>452481V</td>\n",
              "      <td>37.377178</td>\n",
              "      <td>...</td>\n",
              "      <td>Plug Out at Station</td>\n",
              "      <td>0.999513</td>\n",
              "      <td>0.999530</td>\n",
              "      <td>0.999530</td>\n",
              "      <td>0.033624</td>\n",
              "      <td>0.036284</td>\n",
              "      <td>0.341452</td>\n",
              "      <td>0.345735</td>\n",
              "      <td>0.341463</td>\n",
              "      <td>0.192392</td>\n",
              "    </tr>\n",
              "  </tbody>\n",
              "</table>\n",
              "<p>38624 rows × 48 columns</p>\n",
              "</div>\n",
              "    <div class=\"colab-df-buttons\">\n",
              "\n",
              "  <div class=\"colab-df-container\">\n",
              "    <button class=\"colab-df-convert\" onclick=\"convertToInteractive('df-01231caa-e182-4d0b-9ed7-cfff5f06c8b0')\"\n",
              "            title=\"Convert this dataframe to an interactive table.\"\n",
              "            style=\"display:none;\">\n",
              "\n",
              "  <svg xmlns=\"http://www.w3.org/2000/svg\" height=\"24px\" viewBox=\"0 -960 960 960\">\n",
              "    <path d=\"M120-120v-720h720v720H120Zm60-500h600v-160H180v160Zm220 220h160v-160H400v160Zm0 220h160v-160H400v160ZM180-400h160v-160H180v160Zm440 0h160v-160H620v160ZM180-180h160v-160H180v160Zm440 0h160v-160H620v160Z\"/>\n",
              "  </svg>\n",
              "    </button>\n",
              "\n",
              "  <style>\n",
              "    .colab-df-container {\n",
              "      display:flex;\n",
              "      gap: 12px;\n",
              "    }\n",
              "\n",
              "    .colab-df-convert {\n",
              "      background-color: #E8F0FE;\n",
              "      border: none;\n",
              "      border-radius: 50%;\n",
              "      cursor: pointer;\n",
              "      display: none;\n",
              "      fill: #1967D2;\n",
              "      height: 32px;\n",
              "      padding: 0 0 0 0;\n",
              "      width: 32px;\n",
              "    }\n",
              "\n",
              "    .colab-df-convert:hover {\n",
              "      background-color: #E2EBFA;\n",
              "      box-shadow: 0px 1px 2px rgba(60, 64, 67, 0.3), 0px 1px 3px 1px rgba(60, 64, 67, 0.15);\n",
              "      fill: #174EA6;\n",
              "    }\n",
              "\n",
              "    .colab-df-buttons div {\n",
              "      margin-bottom: 4px;\n",
              "    }\n",
              "\n",
              "    [theme=dark] .colab-df-convert {\n",
              "      background-color: #3B4455;\n",
              "      fill: #D2E3FC;\n",
              "    }\n",
              "\n",
              "    [theme=dark] .colab-df-convert:hover {\n",
              "      background-color: #434B5C;\n",
              "      box-shadow: 0px 1px 3px 1px rgba(0, 0, 0, 0.15);\n",
              "      filter: drop-shadow(0px 1px 2px rgba(0, 0, 0, 0.3));\n",
              "      fill: #FFFFFF;\n",
              "    }\n",
              "  </style>\n",
              "\n",
              "    <script>\n",
              "      const buttonEl =\n",
              "        document.querySelector('#df-01231caa-e182-4d0b-9ed7-cfff5f06c8b0 button.colab-df-convert');\n",
              "      buttonEl.style.display =\n",
              "        google.colab.kernel.accessAllowed ? 'block' : 'none';\n",
              "\n",
              "      async function convertToInteractive(key) {\n",
              "        const element = document.querySelector('#df-01231caa-e182-4d0b-9ed7-cfff5f06c8b0');\n",
              "        const dataTable =\n",
              "          await google.colab.kernel.invokeFunction('convertToInteractive',\n",
              "                                                    [key], {});\n",
              "        if (!dataTable) return;\n",
              "\n",
              "        const docLinkHtml = 'Like what you see? Visit the ' +\n",
              "          '<a target=\"_blank\" href=https://colab.research.google.com/notebooks/data_table.ipynb>data table notebook</a>'\n",
              "          + ' to learn more about interactive tables.';\n",
              "        element.innerHTML = '';\n",
              "        dataTable['output_type'] = 'display_data';\n",
              "        await google.colab.output.renderOutput(dataTable, element);\n",
              "        const docLink = document.createElement('div');\n",
              "        docLink.innerHTML = docLinkHtml;\n",
              "        element.appendChild(docLink);\n",
              "      }\n",
              "    </script>\n",
              "  </div>\n",
              "\n",
              "\n",
              "<div id=\"df-a828d109-eacf-430b-8383-a81e56203d2a\">\n",
              "  <button class=\"colab-df-quickchart\" onclick=\"quickchart('df-a828d109-eacf-430b-8383-a81e56203d2a')\"\n",
              "            title=\"Suggest charts\"\n",
              "            style=\"display:none;\">\n",
              "\n",
              "<svg xmlns=\"http://www.w3.org/2000/svg\" height=\"24px\"viewBox=\"0 0 24 24\"\n",
              "     width=\"24px\">\n",
              "    <g>\n",
              "        <path d=\"M19 3H5c-1.1 0-2 .9-2 2v14c0 1.1.9 2 2 2h14c1.1 0 2-.9 2-2V5c0-1.1-.9-2-2-2zM9 17H7v-7h2v7zm4 0h-2V7h2v10zm4 0h-2v-4h2v4z\"/>\n",
              "    </g>\n",
              "</svg>\n",
              "  </button>\n",
              "\n",
              "<style>\n",
              "  .colab-df-quickchart {\n",
              "      --bg-color: #E8F0FE;\n",
              "      --fill-color: #1967D2;\n",
              "      --hover-bg-color: #E2EBFA;\n",
              "      --hover-fill-color: #174EA6;\n",
              "      --disabled-fill-color: #AAA;\n",
              "      --disabled-bg-color: #DDD;\n",
              "  }\n",
              "\n",
              "  [theme=dark] .colab-df-quickchart {\n",
              "      --bg-color: #3B4455;\n",
              "      --fill-color: #D2E3FC;\n",
              "      --hover-bg-color: #434B5C;\n",
              "      --hover-fill-color: #FFFFFF;\n",
              "      --disabled-bg-color: #3B4455;\n",
              "      --disabled-fill-color: #666;\n",
              "  }\n",
              "\n",
              "  .colab-df-quickchart {\n",
              "    background-color: var(--bg-color);\n",
              "    border: none;\n",
              "    border-radius: 50%;\n",
              "    cursor: pointer;\n",
              "    display: none;\n",
              "    fill: var(--fill-color);\n",
              "    height: 32px;\n",
              "    padding: 0;\n",
              "    width: 32px;\n",
              "  }\n",
              "\n",
              "  .colab-df-quickchart:hover {\n",
              "    background-color: var(--hover-bg-color);\n",
              "    box-shadow: 0 1px 2px rgba(60, 64, 67, 0.3), 0 1px 3px 1px rgba(60, 64, 67, 0.15);\n",
              "    fill: var(--button-hover-fill-color);\n",
              "  }\n",
              "\n",
              "  .colab-df-quickchart-complete:disabled,\n",
              "  .colab-df-quickchart-complete:disabled:hover {\n",
              "    background-color: var(--disabled-bg-color);\n",
              "    fill: var(--disabled-fill-color);\n",
              "    box-shadow: none;\n",
              "  }\n",
              "\n",
              "  .colab-df-spinner {\n",
              "    border: 2px solid var(--fill-color);\n",
              "    border-color: transparent;\n",
              "    border-bottom-color: var(--fill-color);\n",
              "    animation:\n",
              "      spin 1s steps(1) infinite;\n",
              "  }\n",
              "\n",
              "  @keyframes spin {\n",
              "    0% {\n",
              "      border-color: transparent;\n",
              "      border-bottom-color: var(--fill-color);\n",
              "      border-left-color: var(--fill-color);\n",
              "    }\n",
              "    20% {\n",
              "      border-color: transparent;\n",
              "      border-left-color: var(--fill-color);\n",
              "      border-top-color: var(--fill-color);\n",
              "    }\n",
              "    30% {\n",
              "      border-color: transparent;\n",
              "      border-left-color: var(--fill-color);\n",
              "      border-top-color: var(--fill-color);\n",
              "      border-right-color: var(--fill-color);\n",
              "    }\n",
              "    40% {\n",
              "      border-color: transparent;\n",
              "      border-right-color: var(--fill-color);\n",
              "      border-top-color: var(--fill-color);\n",
              "    }\n",
              "    60% {\n",
              "      border-color: transparent;\n",
              "      border-right-color: var(--fill-color);\n",
              "    }\n",
              "    80% {\n",
              "      border-color: transparent;\n",
              "      border-right-color: var(--fill-color);\n",
              "      border-bottom-color: var(--fill-color);\n",
              "    }\n",
              "    90% {\n",
              "      border-color: transparent;\n",
              "      border-bottom-color: var(--fill-color);\n",
              "    }\n",
              "  }\n",
              "</style>\n",
              "\n",
              "  <script>\n",
              "    async function quickchart(key) {\n",
              "      const quickchartButtonEl =\n",
              "        document.querySelector('#' + key + ' button');\n",
              "      quickchartButtonEl.disabled = true;  // To prevent multiple clicks.\n",
              "      quickchartButtonEl.classList.add('colab-df-spinner');\n",
              "      try {\n",
              "        const charts = await google.colab.kernel.invokeFunction(\n",
              "            'suggestCharts', [key], {});\n",
              "      } catch (error) {\n",
              "        console.error('Error during call to suggestCharts:', error);\n",
              "      }\n",
              "      quickchartButtonEl.classList.remove('colab-df-spinner');\n",
              "      quickchartButtonEl.classList.add('colab-df-quickchart-complete');\n",
              "    }\n",
              "    (() => {\n",
              "      let quickchartButtonEl =\n",
              "        document.querySelector('#df-a828d109-eacf-430b-8383-a81e56203d2a button');\n",
              "      quickchartButtonEl.style.display =\n",
              "        google.colab.kernel.accessAllowed ? 'block' : 'none';\n",
              "    })();\n",
              "  </script>\n",
              "</div>\n",
              "    </div>\n",
              "  </div>\n"
            ],
            "application/vnd.google.colaboratory.intrinsic+json": {
              "type": "dataframe",
              "variable_name": "df"
            }
          },
          "metadata": {},
          "execution_count": 33
        }
      ]
    },
    {
      "cell_type": "code",
      "source": [
        "df.sort_values(by=['Station Name', 'Start_Time_EST_Norm'], inplace=True)\n",
        "\n",
        "df_grouped = df.groupby('Station Name').agg({\n",
        "    'Start_Time_EST_Norm': 'first',\n",
        "    'End_Time_EST_Norm': 'last'\n",
        "}).reset_index()\n",
        "\n",
        "df_grouped['Time_Difference_Norm'] = df_grouped['End_Time_EST_Norm'] - df_grouped['Start_Time_EST_Norm']\n",
        "\n",
        "plt.figure(figsize=(10, 6))\n",
        "plt.bar(df_grouped.index, df_grouped['Time_Difference_Norm'], color='skyblue')\n",
        "plt.xlabel('Station Index')\n",
        "plt.ylabel('Time Difference (Normalized)')\n",
        "plt.title('Time Difference Between First and Last Data for Each Station (Normalized)')\n",
        "plt.xticks([])\n",
        "plt.grid(axis='y', linestyle='--', alpha=0.7)\n",
        "\n",
        "# ------------------------------------------------------statistics\n",
        "mean_time_diff = df_grouped['Time_Difference_Norm'].mean()\n",
        "max_time_diff = df_grouped['Time_Difference_Norm'].max()\n",
        "median_time_diff = df_grouped['Time_Difference_Norm'].median()\n",
        "\n",
        "plt.axhline(y=mean_time_diff, color='orange', linestyle='--', label=f'Mean: {mean_time_diff:.2f}')\n",
        "plt.axhline(y=max_time_diff, color='red', linestyle='--', label=f'Max: {max_time_diff:.2f}')\n",
        "plt.axhline(y=median_time_diff, color='green', linestyle='--', label=f'Median: {median_time_diff:.2f}')\n",
        "\n",
        "plt.legend()\n",
        "plt.show()\n"
      ],
      "metadata": {
        "id": "b7G0lzZJoeFR",
        "outputId": "7aa54fd9-674a-460e-e4d3-a3830cb23af7",
        "colab": {
          "base_uri": "https://localhost:8080/",
          "height": 533
        }
      },
      "execution_count": null,
      "outputs": [
        {
          "output_type": "display_data",
          "data": {
            "text/plain": [
              "<Figure size 1000x600 with 1 Axes>"
            ],
            "image/png": "[encoded data removed]"
          },
          "metadata": {}
        }
      ]
    }
  ]
}